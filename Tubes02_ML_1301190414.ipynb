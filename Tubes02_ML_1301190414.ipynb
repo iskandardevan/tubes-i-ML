{
  "nbformat": 4,
  "nbformat_minor": 0,
  "metadata": {
    "colab": {
      "name": "Tubes02_ML_1301190414.ipynb",
      "provenance": [],
      "collapsed_sections": [],
      "include_colab_link": true
    },
    "kernelspec": {
      "display_name": "Python 3",
      "name": "python3"
    },
    "language_info": {
      "name": "python"
    }
  },
  "cells": [
    {
      "cell_type": "markdown",
      "metadata": {
        "id": "view-in-github",
        "colab_type": "text"
      },
      "source": [
        "<a href=\"https://colab.research.google.com/github/iskandardevan/tubes-i-ML/blob/main/Tubes02_ML_1301190414.ipynb\" target=\"_parent\"><img src=\"https://colab.research.google.com/assets/colab-badge.svg\" alt=\"Open In Colab\"/></a>"
      ]
    },
    {
      "cell_type": "markdown",
      "metadata": {
        "id": "P0bG4ce8LRED"
      },
      "source": [
        "#**Muhammad Iskandar Devanto 1301190414**\n",
        "\n",
        "#**Muhammad Wima Fathurrahman**\n",
        "\n"
      ]
    },
    {
      "cell_type": "markdown",
      "metadata": {
        "id": "hhpdSeDSLdQC"
      },
      "source": [
        "# **Import library python**"
      ]
    },
    {
      "cell_type": "code",
      "metadata": {
        "id": "FT1kVNetLGIu"
      },
      "source": [
        "import numpy as np\n",
        "import pandas as pd\n",
        "import matplotlib.pyplot as plt\n",
        "import seaborn as sns\n",
        "from sklearn.preprocessing import LabelEncoder\n",
        "from sklearn import preprocessing\n",
        "from sklearn.preprocessing import StandardScaler\n",
        "from scipy import stats\n",
        "from sklearn.naive_bayes import GaussianNB\n",
        "from sklearn.metrics import classification_report, confusion_matrix, accuracy_score\n",
        "from sklearn.ensemble import RandomForestClassifier"
      ],
      "execution_count": null,
      "outputs": []
    },
    {
      "cell_type": "markdown",
      "metadata": {
        "id": "4qSG8UDHN-kD"
      },
      "source": [
        "# **Persiapan data**"
      ]
    },
    {
      "cell_type": "code",
      "metadata": {
        "colab": {
          "base_uri": "https://localhost:8080/",
          "height": 493
        },
        "id": "-jCZIErKMvWd",
        "outputId": "d2f81f24-9fe5-4319-8595-18455f43fe7e"
      },
      "source": [
        "!gdown --id 1G2L_fwfpKtYdKC4o76o_wqNgdajvgbrr #Mengunduh file excel\n",
        "\n",
        "DataKendaraan_test = pd.read_excel('kendaraan_test.xlsx')\n",
        "DataKendaraan_test"
      ],
      "execution_count": null,
      "outputs": [
        {
          "output_type": "stream",
          "name": "stdout",
          "text": [
            "Downloading...\n",
            "From: https://drive.google.com/uc?id=1G2L_fwfpKtYdKC4o76o_wqNgdajvgbrr\n",
            "To: /content/kendaraan_test.xlsx\n",
            "\r  0% 0.00/2.18M [00:00<?, ?B/s]\r100% 2.18M/2.18M [00:00<00:00, 34.1MB/s]\n"
          ]
        },
        {
          "output_type": "execute_result",
          "data": {
            "text/html": [
              "\n",
              "  <div id=\"df-4d16784c-ebb7-4fca-860a-1a1fb404c457\">\n",
              "    <div class=\"colab-df-container\">\n",
              "      <div>\n",
              "<style scoped>\n",
              "    .dataframe tbody tr th:only-of-type {\n",
              "        vertical-align: middle;\n",
              "    }\n",
              "\n",
              "    .dataframe tbody tr th {\n",
              "        vertical-align: top;\n",
              "    }\n",
              "\n",
              "    .dataframe thead th {\n",
              "        text-align: right;\n",
              "    }\n",
              "</style>\n",
              "<table border=\"1\" class=\"dataframe\">\n",
              "  <thead>\n",
              "    <tr style=\"text-align: right;\">\n",
              "      <th></th>\n",
              "      <th>Jenis_Kelamin</th>\n",
              "      <th>Umur</th>\n",
              "      <th>SIM</th>\n",
              "      <th>Kode_Daerah</th>\n",
              "      <th>Sudah_Asuransi</th>\n",
              "      <th>Umur_Kendaraan</th>\n",
              "      <th>Kendaraan_Rusak</th>\n",
              "      <th>Premi</th>\n",
              "      <th>Kanal_Penjualan</th>\n",
              "      <th>Lama_Berlangganan</th>\n",
              "      <th>Tertarik</th>\n",
              "    </tr>\n",
              "  </thead>\n",
              "  <tbody>\n",
              "    <tr>\n",
              "      <th>0</th>\n",
              "      <td>Wanita</td>\n",
              "      <td>49</td>\n",
              "      <td>1</td>\n",
              "      <td>8</td>\n",
              "      <td>0</td>\n",
              "      <td>1-2 Tahun</td>\n",
              "      <td>Pernah</td>\n",
              "      <td>46963</td>\n",
              "      <td>26</td>\n",
              "      <td>145</td>\n",
              "      <td>0</td>\n",
              "    </tr>\n",
              "    <tr>\n",
              "      <th>1</th>\n",
              "      <td>Pria</td>\n",
              "      <td>22</td>\n",
              "      <td>1</td>\n",
              "      <td>47</td>\n",
              "      <td>1</td>\n",
              "      <td>&lt; 1 Tahun</td>\n",
              "      <td>Tidak</td>\n",
              "      <td>39624</td>\n",
              "      <td>152</td>\n",
              "      <td>241</td>\n",
              "      <td>0</td>\n",
              "    </tr>\n",
              "    <tr>\n",
              "      <th>2</th>\n",
              "      <td>Pria</td>\n",
              "      <td>24</td>\n",
              "      <td>1</td>\n",
              "      <td>28</td>\n",
              "      <td>1</td>\n",
              "      <td>&lt; 1 Tahun</td>\n",
              "      <td>Tidak</td>\n",
              "      <td>110479</td>\n",
              "      <td>152</td>\n",
              "      <td>62</td>\n",
              "      <td>0</td>\n",
              "    </tr>\n",
              "    <tr>\n",
              "      <th>3</th>\n",
              "      <td>Pria</td>\n",
              "      <td>46</td>\n",
              "      <td>1</td>\n",
              "      <td>8</td>\n",
              "      <td>1</td>\n",
              "      <td>1-2 Tahun</td>\n",
              "      <td>Tidak</td>\n",
              "      <td>36266</td>\n",
              "      <td>124</td>\n",
              "      <td>34</td>\n",
              "      <td>0</td>\n",
              "    </tr>\n",
              "    <tr>\n",
              "      <th>4</th>\n",
              "      <td>Pria</td>\n",
              "      <td>35</td>\n",
              "      <td>1</td>\n",
              "      <td>23</td>\n",
              "      <td>0</td>\n",
              "      <td>1-2 Tahun</td>\n",
              "      <td>Pernah</td>\n",
              "      <td>26963</td>\n",
              "      <td>152</td>\n",
              "      <td>229</td>\n",
              "      <td>0</td>\n",
              "    </tr>\n",
              "    <tr>\n",
              "      <th>...</th>\n",
              "      <td>...</td>\n",
              "      <td>...</td>\n",
              "      <td>...</td>\n",
              "      <td>...</td>\n",
              "      <td>...</td>\n",
              "      <td>...</td>\n",
              "      <td>...</td>\n",
              "      <td>...</td>\n",
              "      <td>...</td>\n",
              "      <td>...</td>\n",
              "      <td>...</td>\n",
              "    </tr>\n",
              "    <tr>\n",
              "      <th>47634</th>\n",
              "      <td>Pria</td>\n",
              "      <td>61</td>\n",
              "      <td>1</td>\n",
              "      <td>46</td>\n",
              "      <td>0</td>\n",
              "      <td>&gt; 2 Tahun</td>\n",
              "      <td>Pernah</td>\n",
              "      <td>31039</td>\n",
              "      <td>124</td>\n",
              "      <td>67</td>\n",
              "      <td>0</td>\n",
              "    </tr>\n",
              "    <tr>\n",
              "      <th>47635</th>\n",
              "      <td>Pria</td>\n",
              "      <td>41</td>\n",
              "      <td>1</td>\n",
              "      <td>15</td>\n",
              "      <td>0</td>\n",
              "      <td>1-2 Tahun</td>\n",
              "      <td>Pernah</td>\n",
              "      <td>2630</td>\n",
              "      <td>157</td>\n",
              "      <td>232</td>\n",
              "      <td>0</td>\n",
              "    </tr>\n",
              "    <tr>\n",
              "      <th>47636</th>\n",
              "      <td>Pria</td>\n",
              "      <td>24</td>\n",
              "      <td>1</td>\n",
              "      <td>29</td>\n",
              "      <td>1</td>\n",
              "      <td>&lt; 1 Tahun</td>\n",
              "      <td>Tidak</td>\n",
              "      <td>33101</td>\n",
              "      <td>152</td>\n",
              "      <td>211</td>\n",
              "      <td>0</td>\n",
              "    </tr>\n",
              "    <tr>\n",
              "      <th>47637</th>\n",
              "      <td>Pria</td>\n",
              "      <td>59</td>\n",
              "      <td>1</td>\n",
              "      <td>30</td>\n",
              "      <td>0</td>\n",
              "      <td>1-2 Tahun</td>\n",
              "      <td>Pernah</td>\n",
              "      <td>37788</td>\n",
              "      <td>26</td>\n",
              "      <td>239</td>\n",
              "      <td>1</td>\n",
              "    </tr>\n",
              "    <tr>\n",
              "      <th>47638</th>\n",
              "      <td>Pria</td>\n",
              "      <td>52</td>\n",
              "      <td>1</td>\n",
              "      <td>31</td>\n",
              "      <td>0</td>\n",
              "      <td>1-2 Tahun</td>\n",
              "      <td>Tidak</td>\n",
              "      <td>2630</td>\n",
              "      <td>124</td>\n",
              "      <td>170</td>\n",
              "      <td>0</td>\n",
              "    </tr>\n",
              "  </tbody>\n",
              "</table>\n",
              "<p>47639 rows × 11 columns</p>\n",
              "</div>\n",
              "      <button class=\"colab-df-convert\" onclick=\"convertToInteractive('df-4d16784c-ebb7-4fca-860a-1a1fb404c457')\"\n",
              "              title=\"Convert this dataframe to an interactive table.\"\n",
              "              style=\"display:none;\">\n",
              "        \n",
              "  <svg xmlns=\"http://www.w3.org/2000/svg\" height=\"24px\"viewBox=\"0 0 24 24\"\n",
              "       width=\"24px\">\n",
              "    <path d=\"M0 0h24v24H0V0z\" fill=\"none\"/>\n",
              "    <path d=\"M18.56 5.44l.94 2.06.94-2.06 2.06-.94-2.06-.94-.94-2.06-.94 2.06-2.06.94zm-11 1L8.5 8.5l.94-2.06 2.06-.94-2.06-.94L8.5 2.5l-.94 2.06-2.06.94zm10 10l.94 2.06.94-2.06 2.06-.94-2.06-.94-.94-2.06-.94 2.06-2.06.94z\"/><path d=\"M17.41 7.96l-1.37-1.37c-.4-.4-.92-.59-1.43-.59-.52 0-1.04.2-1.43.59L10.3 9.45l-7.72 7.72c-.78.78-.78 2.05 0 2.83L4 21.41c.39.39.9.59 1.41.59.51 0 1.02-.2 1.41-.59l7.78-7.78 2.81-2.81c.8-.78.8-2.07 0-2.86zM5.41 20L4 18.59l7.72-7.72 1.47 1.35L5.41 20z\"/>\n",
              "  </svg>\n",
              "      </button>\n",
              "      \n",
              "  <style>\n",
              "    .colab-df-container {\n",
              "      display:flex;\n",
              "      flex-wrap:wrap;\n",
              "      gap: 12px;\n",
              "    }\n",
              "\n",
              "    .colab-df-convert {\n",
              "      background-color: #E8F0FE;\n",
              "      border: none;\n",
              "      border-radius: 50%;\n",
              "      cursor: pointer;\n",
              "      display: none;\n",
              "      fill: #1967D2;\n",
              "      height: 32px;\n",
              "      padding: 0 0 0 0;\n",
              "      width: 32px;\n",
              "    }\n",
              "\n",
              "    .colab-df-convert:hover {\n",
              "      background-color: #E2EBFA;\n",
              "      box-shadow: 0px 1px 2px rgba(60, 64, 67, 0.3), 0px 1px 3px 1px rgba(60, 64, 67, 0.15);\n",
              "      fill: #174EA6;\n",
              "    }\n",
              "\n",
              "    [theme=dark] .colab-df-convert {\n",
              "      background-color: #3B4455;\n",
              "      fill: #D2E3FC;\n",
              "    }\n",
              "\n",
              "    [theme=dark] .colab-df-convert:hover {\n",
              "      background-color: #434B5C;\n",
              "      box-shadow: 0px 1px 3px 1px rgba(0, 0, 0, 0.15);\n",
              "      filter: drop-shadow(0px 1px 2px rgba(0, 0, 0, 0.3));\n",
              "      fill: #FFFFFF;\n",
              "    }\n",
              "  </style>\n",
              "\n",
              "      <script>\n",
              "        const buttonEl =\n",
              "          document.querySelector('#df-4d16784c-ebb7-4fca-860a-1a1fb404c457 button.colab-df-convert');\n",
              "        buttonEl.style.display =\n",
              "          google.colab.kernel.accessAllowed ? 'block' : 'none';\n",
              "\n",
              "        async function convertToInteractive(key) {\n",
              "          const element = document.querySelector('#df-4d16784c-ebb7-4fca-860a-1a1fb404c457');\n",
              "          const dataTable =\n",
              "            await google.colab.kernel.invokeFunction('convertToInteractive',\n",
              "                                                     [key], {});\n",
              "          if (!dataTable) return;\n",
              "\n",
              "          const docLinkHtml = 'Like what you see? Visit the ' +\n",
              "            '<a target=\"_blank\" href=https://colab.research.google.com/notebooks/data_table.ipynb>data table notebook</a>'\n",
              "            + ' to learn more about interactive tables.';\n",
              "          element.innerHTML = '';\n",
              "          dataTable['output_type'] = 'display_data';\n",
              "          await google.colab.output.renderOutput(dataTable, element);\n",
              "          const docLink = document.createElement('div');\n",
              "          docLink.innerHTML = docLinkHtml;\n",
              "          element.appendChild(docLink);\n",
              "        }\n",
              "      </script>\n",
              "    </div>\n",
              "  </div>\n",
              "  "
            ],
            "text/plain": [
              "      Jenis_Kelamin  Umur  SIM  ...  Kanal_Penjualan  Lama_Berlangganan Tertarik\n",
              "0            Wanita    49    1  ...               26                145        0\n",
              "1              Pria    22    1  ...              152                241        0\n",
              "2              Pria    24    1  ...              152                 62        0\n",
              "3              Pria    46    1  ...              124                 34        0\n",
              "4              Pria    35    1  ...              152                229        0\n",
              "...             ...   ...  ...  ...              ...                ...      ...\n",
              "47634          Pria    61    1  ...              124                 67        0\n",
              "47635          Pria    41    1  ...              157                232        0\n",
              "47636          Pria    24    1  ...              152                211        0\n",
              "47637          Pria    59    1  ...               26                239        1\n",
              "47638          Pria    52    1  ...              124                170        0\n",
              "\n",
              "[47639 rows x 11 columns]"
            ]
          },
          "metadata": {},
          "execution_count": 64
        }
      ]
    },
    {
      "cell_type": "code",
      "metadata": {
        "id": "Cb4we4VuOCuL",
        "colab": {
          "base_uri": "https://localhost:8080/",
          "height": 276
        },
        "outputId": "b3c51e63-0b55-4a81-975d-69a18d960b77"
      },
      "source": [
        "!gdown --id 1rPN2Qi7LXmFj7Kx4ak18qCjsotxTA_3e\n",
        "\n",
        "DataKendaraan_train = pd.read_excel('kendaraan_train.xlsx')\n",
        "DataKendaraan_train.head()"
      ],
      "execution_count": null,
      "outputs": [
        {
          "output_type": "stream",
          "name": "stdout",
          "text": [
            "Downloading...\n",
            "From: https://drive.google.com/uc?id=1rPN2Qi7LXmFj7Kx4ak18qCjsotxTA_3e\n",
            "To: /content/kendaraan_train.xlsx\n",
            "\r  0% 0.00/14.3M [00:00<?, ?B/s]\r 44% 6.29M/14.3M [00:00<00:00, 61.7MB/s]\r100% 14.3M/14.3M [00:00<00:00, 87.1MB/s]\n"
          ]
        },
        {
          "output_type": "execute_result",
          "data": {
            "text/html": [
              "\n",
              "  <div id=\"df-e2dd5c01-8023-4c41-8177-1a9d742acbcb\">\n",
              "    <div class=\"colab-df-container\">\n",
              "      <div>\n",
              "<style scoped>\n",
              "    .dataframe tbody tr th:only-of-type {\n",
              "        vertical-align: middle;\n",
              "    }\n",
              "\n",
              "    .dataframe tbody tr th {\n",
              "        vertical-align: top;\n",
              "    }\n",
              "\n",
              "    .dataframe thead th {\n",
              "        text-align: right;\n",
              "    }\n",
              "</style>\n",
              "<table border=\"1\" class=\"dataframe\">\n",
              "  <thead>\n",
              "    <tr style=\"text-align: right;\">\n",
              "      <th></th>\n",
              "      <th>id</th>\n",
              "      <th>Jenis_Kelamin</th>\n",
              "      <th>Umur</th>\n",
              "      <th>SIM</th>\n",
              "      <th>Kode_Daerah</th>\n",
              "      <th>Sudah_Asuransi</th>\n",
              "      <th>Umur_Kendaraan</th>\n",
              "      <th>Kendaraan_Rusak</th>\n",
              "      <th>Premi</th>\n",
              "      <th>Kanal_Penjualan</th>\n",
              "      <th>Lama_Berlangganan</th>\n",
              "      <th>Tertarik</th>\n",
              "    </tr>\n",
              "  </thead>\n",
              "  <tbody>\n",
              "    <tr>\n",
              "      <th>0</th>\n",
              "      <td>1</td>\n",
              "      <td>Wanita</td>\n",
              "      <td>30.0</td>\n",
              "      <td>1.0</td>\n",
              "      <td>33.0</td>\n",
              "      <td>1.0</td>\n",
              "      <td>&lt; 1 Tahun</td>\n",
              "      <td>Tidak</td>\n",
              "      <td>28029.0</td>\n",
              "      <td>152.0</td>\n",
              "      <td>97.0</td>\n",
              "      <td>0</td>\n",
              "    </tr>\n",
              "    <tr>\n",
              "      <th>1</th>\n",
              "      <td>2</td>\n",
              "      <td>Pria</td>\n",
              "      <td>48.0</td>\n",
              "      <td>1.0</td>\n",
              "      <td>39.0</td>\n",
              "      <td>0.0</td>\n",
              "      <td>&gt; 2 Tahun</td>\n",
              "      <td>Pernah</td>\n",
              "      <td>25800.0</td>\n",
              "      <td>29.0</td>\n",
              "      <td>158.0</td>\n",
              "      <td>0</td>\n",
              "    </tr>\n",
              "    <tr>\n",
              "      <th>2</th>\n",
              "      <td>3</td>\n",
              "      <td>NaN</td>\n",
              "      <td>21.0</td>\n",
              "      <td>1.0</td>\n",
              "      <td>46.0</td>\n",
              "      <td>1.0</td>\n",
              "      <td>&lt; 1 Tahun</td>\n",
              "      <td>Tidak</td>\n",
              "      <td>32733.0</td>\n",
              "      <td>160.0</td>\n",
              "      <td>119.0</td>\n",
              "      <td>0</td>\n",
              "    </tr>\n",
              "    <tr>\n",
              "      <th>3</th>\n",
              "      <td>4</td>\n",
              "      <td>Wanita</td>\n",
              "      <td>58.0</td>\n",
              "      <td>1.0</td>\n",
              "      <td>48.0</td>\n",
              "      <td>0.0</td>\n",
              "      <td>1-2 Tahun</td>\n",
              "      <td>Tidak</td>\n",
              "      <td>2630.0</td>\n",
              "      <td>124.0</td>\n",
              "      <td>63.0</td>\n",
              "      <td>0</td>\n",
              "    </tr>\n",
              "    <tr>\n",
              "      <th>4</th>\n",
              "      <td>5</td>\n",
              "      <td>Pria</td>\n",
              "      <td>50.0</td>\n",
              "      <td>1.0</td>\n",
              "      <td>35.0</td>\n",
              "      <td>0.0</td>\n",
              "      <td>&gt; 2 Tahun</td>\n",
              "      <td>NaN</td>\n",
              "      <td>34857.0</td>\n",
              "      <td>88.0</td>\n",
              "      <td>194.0</td>\n",
              "      <td>0</td>\n",
              "    </tr>\n",
              "  </tbody>\n",
              "</table>\n",
              "</div>\n",
              "      <button class=\"colab-df-convert\" onclick=\"convertToInteractive('df-e2dd5c01-8023-4c41-8177-1a9d742acbcb')\"\n",
              "              title=\"Convert this dataframe to an interactive table.\"\n",
              "              style=\"display:none;\">\n",
              "        \n",
              "  <svg xmlns=\"http://www.w3.org/2000/svg\" height=\"24px\"viewBox=\"0 0 24 24\"\n",
              "       width=\"24px\">\n",
              "    <path d=\"M0 0h24v24H0V0z\" fill=\"none\"/>\n",
              "    <path d=\"M18.56 5.44l.94 2.06.94-2.06 2.06-.94-2.06-.94-.94-2.06-.94 2.06-2.06.94zm-11 1L8.5 8.5l.94-2.06 2.06-.94-2.06-.94L8.5 2.5l-.94 2.06-2.06.94zm10 10l.94 2.06.94-2.06 2.06-.94-2.06-.94-.94-2.06-.94 2.06-2.06.94z\"/><path d=\"M17.41 7.96l-1.37-1.37c-.4-.4-.92-.59-1.43-.59-.52 0-1.04.2-1.43.59L10.3 9.45l-7.72 7.72c-.78.78-.78 2.05 0 2.83L4 21.41c.39.39.9.59 1.41.59.51 0 1.02-.2 1.41-.59l7.78-7.78 2.81-2.81c.8-.78.8-2.07 0-2.86zM5.41 20L4 18.59l7.72-7.72 1.47 1.35L5.41 20z\"/>\n",
              "  </svg>\n",
              "      </button>\n",
              "      \n",
              "  <style>\n",
              "    .colab-df-container {\n",
              "      display:flex;\n",
              "      flex-wrap:wrap;\n",
              "      gap: 12px;\n",
              "    }\n",
              "\n",
              "    .colab-df-convert {\n",
              "      background-color: #E8F0FE;\n",
              "      border: none;\n",
              "      border-radius: 50%;\n",
              "      cursor: pointer;\n",
              "      display: none;\n",
              "      fill: #1967D2;\n",
              "      height: 32px;\n",
              "      padding: 0 0 0 0;\n",
              "      width: 32px;\n",
              "    }\n",
              "\n",
              "    .colab-df-convert:hover {\n",
              "      background-color: #E2EBFA;\n",
              "      box-shadow: 0px 1px 2px rgba(60, 64, 67, 0.3), 0px 1px 3px 1px rgba(60, 64, 67, 0.15);\n",
              "      fill: #174EA6;\n",
              "    }\n",
              "\n",
              "    [theme=dark] .colab-df-convert {\n",
              "      background-color: #3B4455;\n",
              "      fill: #D2E3FC;\n",
              "    }\n",
              "\n",
              "    [theme=dark] .colab-df-convert:hover {\n",
              "      background-color: #434B5C;\n",
              "      box-shadow: 0px 1px 3px 1px rgba(0, 0, 0, 0.15);\n",
              "      filter: drop-shadow(0px 1px 2px rgba(0, 0, 0, 0.3));\n",
              "      fill: #FFFFFF;\n",
              "    }\n",
              "  </style>\n",
              "\n",
              "      <script>\n",
              "        const buttonEl =\n",
              "          document.querySelector('#df-e2dd5c01-8023-4c41-8177-1a9d742acbcb button.colab-df-convert');\n",
              "        buttonEl.style.display =\n",
              "          google.colab.kernel.accessAllowed ? 'block' : 'none';\n",
              "\n",
              "        async function convertToInteractive(key) {\n",
              "          const element = document.querySelector('#df-e2dd5c01-8023-4c41-8177-1a9d742acbcb');\n",
              "          const dataTable =\n",
              "            await google.colab.kernel.invokeFunction('convertToInteractive',\n",
              "                                                     [key], {});\n",
              "          if (!dataTable) return;\n",
              "\n",
              "          const docLinkHtml = 'Like what you see? Visit the ' +\n",
              "            '<a target=\"_blank\" href=https://colab.research.google.com/notebooks/data_table.ipynb>data table notebook</a>'\n",
              "            + ' to learn more about interactive tables.';\n",
              "          element.innerHTML = '';\n",
              "          dataTable['output_type'] = 'display_data';\n",
              "          await google.colab.output.renderOutput(dataTable, element);\n",
              "          const docLink = document.createElement('div');\n",
              "          docLink.innerHTML = docLinkHtml;\n",
              "          element.appendChild(docLink);\n",
              "        }\n",
              "      </script>\n",
              "    </div>\n",
              "  </div>\n",
              "  "
            ],
            "text/plain": [
              "   id Jenis_Kelamin  Umur  ...  Kanal_Penjualan  Lama_Berlangganan  Tertarik\n",
              "0   1        Wanita  30.0  ...            152.0               97.0         0\n",
              "1   2          Pria  48.0  ...             29.0              158.0         0\n",
              "2   3           NaN  21.0  ...            160.0              119.0         0\n",
              "3   4        Wanita  58.0  ...            124.0               63.0         0\n",
              "4   5          Pria  50.0  ...             88.0              194.0         0\n",
              "\n",
              "[5 rows x 12 columns]"
            ]
          },
          "metadata": {},
          "execution_count": 65
        }
      ]
    },
    {
      "cell_type": "markdown",
      "metadata": {
        "id": "2pA3LwtfOGAT"
      },
      "source": [
        "# **Olah data**"
      ]
    },
    {
      "cell_type": "markdown",
      "metadata": {
        "id": "XUUEBYG4_Ud2"
      },
      "source": [
        "## **Menghapus kolom id**"
      ]
    },
    {
      "cell_type": "code",
      "metadata": {
        "id": "Bumon6Iy_U5G"
      },
      "source": [
        "DataKendaraan_train = DataKendaraan_train.drop('id',axis = 1)"
      ],
      "execution_count": null,
      "outputs": []
    },
    {
      "cell_type": "markdown",
      "metadata": {
        "id": "zJyYK26tDSHW"
      },
      "source": [
        "## **Melihat data untuk mengetahui tipe data yang memiliki nilai NULL / NaN**"
      ]
    },
    {
      "cell_type": "code",
      "metadata": {
        "id": "1Ou6dsKtDRkb",
        "colab": {
          "base_uri": "https://localhost:8080/"
        },
        "outputId": "9ced282a-3b5b-457f-deff-9d394ef3b6e7"
      },
      "source": [
        "DataKendaraan_test.info()"
      ],
      "execution_count": null,
      "outputs": [
        {
          "output_type": "stream",
          "name": "stdout",
          "text": [
            "<class 'pandas.core.frame.DataFrame'>\n",
            "RangeIndex: 47639 entries, 0 to 47638\n",
            "Data columns (total 11 columns):\n",
            " #   Column             Non-Null Count  Dtype \n",
            "---  ------             --------------  ----- \n",
            " 0   Jenis_Kelamin      47639 non-null  object\n",
            " 1   Umur               47639 non-null  int64 \n",
            " 2   SIM                47639 non-null  int64 \n",
            " 3   Kode_Daerah        47639 non-null  int64 \n",
            " 4   Sudah_Asuransi     47639 non-null  int64 \n",
            " 5   Umur_Kendaraan     47639 non-null  object\n",
            " 6   Kendaraan_Rusak    47639 non-null  object\n",
            " 7   Premi              47639 non-null  int64 \n",
            " 8   Kanal_Penjualan    47639 non-null  int64 \n",
            " 9   Lama_Berlangganan  47639 non-null  int64 \n",
            " 10  Tertarik           47639 non-null  int64 \n",
            "dtypes: int64(8), object(3)\n",
            "memory usage: 4.0+ MB\n"
          ]
        }
      ]
    },
    {
      "cell_type": "code",
      "metadata": {
        "id": "Ku-vp4EtDlhH",
        "colab": {
          "base_uri": "https://localhost:8080/"
        },
        "outputId": "e914c6a4-31a2-4e92-d9f3-d33879b07a1c"
      },
      "source": [
        "DataKendaraan_train.info()"
      ],
      "execution_count": null,
      "outputs": [
        {
          "output_type": "stream",
          "name": "stdout",
          "text": [
            "<class 'pandas.core.frame.DataFrame'>\n",
            "RangeIndex: 285831 entries, 0 to 285830\n",
            "Data columns (total 11 columns):\n",
            " #   Column             Non-Null Count   Dtype  \n",
            "---  ------             --------------   -----  \n",
            " 0   Jenis_Kelamin      271391 non-null  object \n",
            " 1   Umur               271617 non-null  float64\n",
            " 2   SIM                271427 non-null  float64\n",
            " 3   Kode_Daerah        271525 non-null  float64\n",
            " 4   Sudah_Asuransi     271602 non-null  float64\n",
            " 5   Umur_Kendaraan     271556 non-null  object \n",
            " 6   Kendaraan_Rusak    271643 non-null  object \n",
            " 7   Premi              271262 non-null  float64\n",
            " 8   Kanal_Penjualan    271532 non-null  float64\n",
            " 9   Lama_Berlangganan  271839 non-null  float64\n",
            " 10  Tertarik           285831 non-null  int64  \n",
            "dtypes: float64(7), int64(1), object(3)\n",
            "memory usage: 24.0+ MB\n"
          ]
        }
      ]
    },
    {
      "cell_type": "markdown",
      "metadata": {
        "id": "PyDHPyjWDraz"
      },
      "source": [
        "## **Cek missing value**"
      ]
    },
    {
      "cell_type": "code",
      "metadata": {
        "id": "U1fZRqHDDsYM",
        "colab": {
          "base_uri": "https://localhost:8080/"
        },
        "outputId": "cfc25126-1804-4a52-d1f2-067eeeb28e0b"
      },
      "source": [
        "missingValueKendaraan_test = DataKendaraan_test.isnull().sum().sort_values(ascending = True)\n",
        "print(missingValueKendaraan_test)"
      ],
      "execution_count": null,
      "outputs": [
        {
          "output_type": "stream",
          "name": "stdout",
          "text": [
            "Jenis_Kelamin        0\n",
            "Umur                 0\n",
            "SIM                  0\n",
            "Kode_Daerah          0\n",
            "Sudah_Asuransi       0\n",
            "Umur_Kendaraan       0\n",
            "Kendaraan_Rusak      0\n",
            "Premi                0\n",
            "Kanal_Penjualan      0\n",
            "Lama_Berlangganan    0\n",
            "Tertarik             0\n",
            "dtype: int64\n"
          ]
        }
      ]
    },
    {
      "cell_type": "code",
      "metadata": {
        "id": "VPTqwCEIEY3J",
        "colab": {
          "base_uri": "https://localhost:8080/"
        },
        "outputId": "c4e30363-811c-440c-847d-326339ee56d4"
      },
      "source": [
        "missingValueKendaraan_train = DataKendaraan_train.isnull().sum().sort_values(ascending = True)\n",
        "print(missingValueKendaraan_train)"
      ],
      "execution_count": null,
      "outputs": [
        {
          "output_type": "stream",
          "name": "stdout",
          "text": [
            "Tertarik                 0\n",
            "Lama_Berlangganan    13992\n",
            "Kendaraan_Rusak      14188\n",
            "Umur                 14214\n",
            "Sudah_Asuransi       14229\n",
            "Umur_Kendaraan       14275\n",
            "Kanal_Penjualan      14299\n",
            "Kode_Daerah          14306\n",
            "SIM                  14404\n",
            "Jenis_Kelamin        14440\n",
            "Premi                14569\n",
            "dtype: int64\n"
          ]
        }
      ]
    },
    {
      "cell_type": "markdown",
      "metadata": {
        "id": "S6qOHwLiIx2f"
      },
      "source": [
        "# **Skewness value**"
      ]
    },
    {
      "cell_type": "markdown",
      "metadata": {
        "id": "4tTV7RhRJJs-"
      },
      "source": [
        "## **Cek skewness value**"
      ]
    },
    {
      "cell_type": "markdown",
      "metadata": {
        "id": "qwTiCV1HT2CZ"
      },
      "source": [
        "### kendaraaan_test"
      ]
    },
    {
      "cell_type": "code",
      "metadata": {
        "id": "6MD_56EUTbBI",
        "colab": {
          "base_uri": "https://localhost:8080/"
        },
        "outputId": "495cab0d-2b99-42ac-f9d5-6f3b49882789"
      },
      "source": [
        "sv = ['Umur', 'Kode_Daerah', 'Sudah_Asuransi', 'Premi', 'Kanal_Penjualan', 'Lama_Berlangganan']\n",
        "DataKendaraan_train[sv].skew(axis = 0, skipna = True)"
      ],
      "execution_count": null,
      "outputs": [
        {
          "output_type": "execute_result",
          "data": {
            "text/plain": [
              "Umur                 0.671077\n",
              "Kode_Daerah         -0.116322\n",
              "Sudah_Asuransi       0.165452\n",
              "Premi                1.656493\n",
              "Kanal_Penjualan     -0.899909\n",
              "Lama_Berlangganan    0.003858\n",
              "dtype: float64"
            ]
          },
          "metadata": {},
          "execution_count": 71
        }
      ]
    },
    {
      "cell_type": "markdown",
      "metadata": {
        "id": "bZ85FY11TW7h"
      },
      "source": [
        "### kendaraan_train"
      ]
    },
    {
      "cell_type": "code",
      "metadata": {
        "id": "pECp6lE5RdeF",
        "colab": {
          "base_uri": "https://localhost:8080/"
        },
        "outputId": "f9ddf615-a1d5-4e4e-e680-9c4df550da28"
      },
      "source": [
        "sv = ['Umur', 'Kode_Daerah', 'Sudah_Asuransi', 'Premi', 'Kanal_Penjualan', 'Lama_Berlangganan']\n",
        "DataKendaraan_test[sv].skew(axis = 0, skipna = True)"
      ],
      "execution_count": null,
      "outputs": [
        {
          "output_type": "execute_result",
          "data": {
            "text/plain": [
              "Umur                 0.675795\n",
              "Kode_Daerah         -0.108716\n",
              "Sudah_Asuransi       0.170185\n",
              "Premi                2.033392\n",
              "Kanal_Penjualan     -0.906052\n",
              "Lama_Berlangganan   -0.001749\n",
              "dtype: float64"
            ]
          },
          "metadata": {},
          "execution_count": 72
        }
      ]
    },
    {
      "cell_type": "markdown",
      "metadata": {
        "id": "HZ0PuSAXST4f"
      },
      "source": [
        "## **Preprocessing label encoder skewness value**"
      ]
    },
    {
      "cell_type": "markdown",
      "metadata": {
        "id": "I5IYUfIbVnUq"
      },
      "source": [
        "### kendaraan_test"
      ]
    },
    {
      "cell_type": "code",
      "metadata": {
        "id": "FQvBiH7uUuOu",
        "colab": {
          "base_uri": "https://localhost:8080/"
        },
        "outputId": "450e1955-7767-4e30-83c7-4f37fe2bf56f"
      },
      "source": [
        "labelEncoder_JenisKelamin = preprocessing.LabelEncoder()\n",
        "labelEncoder_KendaraanRusak = preprocessing.LabelEncoder()\n",
        "labelEncoder_UmurKendaraan = preprocessing.LabelEncoder()\n",
        "\n",
        "DataKendaraan_test = DataKendaraan_test[DataKendaraan_test['Jenis_Kelamin'].notna()]\n",
        "DataKendaraan_test = DataKendaraan_test[DataKendaraan_test['Kendaraan_Rusak'].notna()]\n",
        "DataKendaraan_test = DataKendaraan_test[DataKendaraan_test['Umur_Kendaraan'].notna()]\n",
        "\n",
        "DataKendaraan_test['Jenis_Kelamin'] = labelEncoder_JenisKelamin.fit_transform(DataKendaraan_test['Jenis_Kelamin'])\n",
        "DataKendaraan_test['Kendaraan_Rusak'] = labelEncoder_KendaraanRusak.fit_transform(DataKendaraan_test['Kendaraan_Rusak'])\n",
        "DataKendaraan_test['Umur_Kendaraan'] = labelEncoder_UmurKendaraan.fit_transform(DataKendaraan_test['Umur_Kendaraan'])\n",
        "\n",
        "print(DataKendaraan_test['Jenis_Kelamin'].unique())\n",
        "print(DataKendaraan_test['Kendaraan_Rusak'].unique())\n",
        "print(DataKendaraan_test['Umur_Kendaraan'].unique())"
      ],
      "execution_count": null,
      "outputs": [
        {
          "output_type": "stream",
          "name": "stdout",
          "text": [
            "[1 0]\n",
            "[0 1]\n",
            "[0 1 2]\n"
          ]
        }
      ]
    },
    {
      "cell_type": "code",
      "source": [
        "DataKendaraan_test.info()"
      ],
      "metadata": {
        "colab": {
          "base_uri": "https://localhost:8080/"
        },
        "id": "vlM8n0qp_XVq",
        "outputId": "71f7bf83-806c-44d3-d38d-9d03577c01d5"
      },
      "execution_count": null,
      "outputs": [
        {
          "output_type": "stream",
          "name": "stdout",
          "text": [
            "<class 'pandas.core.frame.DataFrame'>\n",
            "Int64Index: 47639 entries, 0 to 47638\n",
            "Data columns (total 11 columns):\n",
            " #   Column             Non-Null Count  Dtype\n",
            "---  ------             --------------  -----\n",
            " 0   Jenis_Kelamin      47639 non-null  int64\n",
            " 1   Umur               47639 non-null  int64\n",
            " 2   SIM                47639 non-null  int64\n",
            " 3   Kode_Daerah        47639 non-null  int64\n",
            " 4   Sudah_Asuransi     47639 non-null  int64\n",
            " 5   Umur_Kendaraan     47639 non-null  int64\n",
            " 6   Kendaraan_Rusak    47639 non-null  int64\n",
            " 7   Premi              47639 non-null  int64\n",
            " 8   Kanal_Penjualan    47639 non-null  int64\n",
            " 9   Lama_Berlangganan  47639 non-null  int64\n",
            " 10  Tertarik           47639 non-null  int64\n",
            "dtypes: int64(11)\n",
            "memory usage: 4.4 MB\n"
          ]
        }
      ]
    },
    {
      "cell_type": "markdown",
      "metadata": {
        "id": "gnf1t-NGU3WM"
      },
      "source": [
        "### kendaraan_train"
      ]
    },
    {
      "cell_type": "code",
      "metadata": {
        "id": "gADokft8SPD_",
        "colab": {
          "base_uri": "https://localhost:8080/"
        },
        "outputId": "0c03c05f-2ce1-4ee0-fbd8-23ae13fec3ec"
      },
      "source": [
        "labelEncoder_JenisKelamin = preprocessing.LabelEncoder()\n",
        "labelEncoder_KendaraanRusak = preprocessing.LabelEncoder()\n",
        "labelEncoder_UmurKendaraan = preprocessing.LabelEncoder()\n",
        "\n",
        "DataKendaraan_train = DataKendaraan_train[DataKendaraan_train['Jenis_Kelamin'].notna()]\n",
        "DataKendaraan_train = DataKendaraan_train[DataKendaraan_train['Kendaraan_Rusak'].notna()]\n",
        "DataKendaraan_train = DataKendaraan_train[DataKendaraan_train['Umur_Kendaraan'].notna()]\n",
        "\n",
        "DataKendaraan_train['Jenis_Kelamin'] = labelEncoder_JenisKelamin.fit_transform(DataKendaraan_train['Jenis_Kelamin'])\n",
        "DataKendaraan_train['Kendaraan_Rusak'] = labelEncoder_KendaraanRusak.fit_transform(DataKendaraan_train['Kendaraan_Rusak'])\n",
        "DataKendaraan_train['Umur_Kendaraan'] = labelEncoder_UmurKendaraan.fit_transform(DataKendaraan_train['Umur_Kendaraan'])\n",
        "\n",
        "print(DataKendaraan_train['Jenis_Kelamin'].unique())\n",
        "print(DataKendaraan_train['Kendaraan_Rusak'].unique())\n",
        "print(DataKendaraan_train['Umur_Kendaraan'].unique())"
      ],
      "execution_count": null,
      "outputs": [
        {
          "output_type": "stream",
          "name": "stdout",
          "text": [
            "[1 0]\n",
            "[1 0]\n",
            "[1 2 0]\n"
          ]
        }
      ]
    },
    {
      "cell_type": "code",
      "source": [
        "DataKendaraan_train.info()"
      ],
      "metadata": {
        "colab": {
          "base_uri": "https://localhost:8080/"
        },
        "id": "03g0POkj_kEo",
        "outputId": "0f2bf723-9c8d-4364-b6d8-65f6e02ffe45"
      },
      "execution_count": null,
      "outputs": [
        {
          "output_type": "stream",
          "name": "stdout",
          "text": [
            "<class 'pandas.core.frame.DataFrame'>\n",
            "Int64Index: 244996 entries, 0 to 285830\n",
            "Data columns (total 11 columns):\n",
            " #   Column             Non-Null Count   Dtype  \n",
            "---  ------             --------------   -----  \n",
            " 0   Jenis_Kelamin      244996 non-null  int64  \n",
            " 1   Umur               232810 non-null  float64\n",
            " 2   SIM                232646 non-null  float64\n",
            " 3   Kode_Daerah        232772 non-null  float64\n",
            " 4   Sudah_Asuransi     232752 non-null  float64\n",
            " 5   Umur_Kendaraan     244996 non-null  int64  \n",
            " 6   Kendaraan_Rusak    244996 non-null  int64  \n",
            " 7   Premi              232569 non-null  float64\n",
            " 8   Kanal_Penjualan    232702 non-null  float64\n",
            " 9   Lama_Berlangganan  233015 non-null  float64\n",
            " 10  Tertarik           244996 non-null  int64  \n",
            "dtypes: float64(7), int64(4)\n",
            "memory usage: 22.4 MB\n"
          ]
        }
      ]
    },
    {
      "cell_type": "markdown",
      "metadata": {
        "id": "Zqx68NKEYTlG"
      },
      "source": [
        "## **Handling empty data**"
      ]
    },
    {
      "cell_type": "code",
      "metadata": {
        "id": "Hs0DTiI0YQzC",
        "colab": {
          "base_uri": "https://localhost:8080/"
        },
        "outputId": "8be3fc12-1f5a-48f2-ee27-218aaf5a7d04"
      },
      "source": [
        "print(\"Duplikat perhitungan baris :\", DataKendaraan_train.duplicated().sum())\n",
        "print(\"Missing Values\")\n",
        "DataKendaraan_train.isna().sum()"
      ],
      "execution_count": null,
      "outputs": [
        {
          "output_type": "stream",
          "name": "stdout",
          "text": [
            "Duplikat perhitungan baris : 167\n",
            "Missing Values\n"
          ]
        },
        {
          "output_type": "execute_result",
          "data": {
            "text/plain": [
              "Jenis_Kelamin            0\n",
              "Umur                 12186\n",
              "SIM                  12350\n",
              "Kode_Daerah          12224\n",
              "Sudah_Asuransi       12244\n",
              "Umur_Kendaraan           0\n",
              "Kendaraan_Rusak          0\n",
              "Premi                12427\n",
              "Kanal_Penjualan      12294\n",
              "Lama_Berlangganan    11981\n",
              "Tertarik                 0\n",
              "dtype: int64"
            ]
          },
          "metadata": {},
          "execution_count": 77
        }
      ]
    },
    {
      "cell_type": "code",
      "metadata": {
        "id": "VCYCyC7eZPdJ",
        "colab": {
          "base_uri": "https://localhost:8080/"
        },
        "outputId": "8e85071e-dfe8-48f5-b8ae-c9e25ebf8b75"
      },
      "source": [
        "filterDatakendaraan_train = DataKendaraan_train.select_dtypes(include = ['float64'])\n",
        "\n",
        "for column in filterDatakendaraan_train.columns.values.tolist() :\n",
        "  if column != 'Kode_Daerah' and column != 'Kanal_Penjualan' :\n",
        "    rerata = round(DataKendaraan_train[column].astype(\"float\").mean(axis=0))\n",
        "    print('Rerata '+ column, end=\": \")\n",
        "    print(rerata)\n",
        "    DataKendaraan_train[column].replace(np.nan, rerata, inplace=True)\n",
        "\n",
        "DataKendaraan_train = DataKendaraan_train[DataKendaraan_train['Kode_Daerah'].notna()]\n",
        "DataKendaraan_train = DataKendaraan_train[DataKendaraan_train['Kanal_Penjualan'].notna()]\n",
        "DataKendaraan_train = DataKendaraan_train.drop_duplicates()"
      ],
      "execution_count": null,
      "outputs": [
        {
          "output_type": "stream",
          "name": "stdout",
          "text": [
            "Rerata Umur: 39\n",
            "Rerata SIM: 1\n",
            "Rerata Sudah_Asuransi: 0\n",
            "Rerata Premi: 30535\n",
            "Rerata Lama_Berlangganan: 154\n"
          ]
        }
      ]
    },
    {
      "cell_type": "markdown",
      "metadata": {
        "id": "MW52yLA6gnLr"
      },
      "source": [
        "### Membuat histogram"
      ]
    },
    {
      "cell_type": "code",
      "metadata": {
        "id": "PeAda1WMgINr",
        "colab": {
          "base_uri": "https://localhost:8080/",
          "height": 1000
        },
        "outputId": "282097cd-9613-47a5-f8bb-012234f4ebf9"
      },
      "source": [
        "DataKendaraan_train.hist(figsize = [20,15])"
      ],
      "execution_count": null,
      "outputs": [
        {
          "output_type": "execute_result",
          "data": {
            "text/plain": [
              "array([[<matplotlib.axes._subplots.AxesSubplot object at 0x7fd7fd1d4cd0>,\n",
              "        <matplotlib.axes._subplots.AxesSubplot object at 0x7fd7fd440f50>,\n",
              "        <matplotlib.axes._subplots.AxesSubplot object at 0x7fd7fd233f50>],\n",
              "       [<matplotlib.axes._subplots.AxesSubplot object at 0x7fd7f9bf7e50>,\n",
              "        <matplotlib.axes._subplots.AxesSubplot object at 0x7fd7f9436490>,\n",
              "        <matplotlib.axes._subplots.AxesSubplot object at 0x7fd7f93eba10>],\n",
              "       [<matplotlib.axes._subplots.AxesSubplot object at 0x7fd7fc6ddf50>,\n",
              "        <matplotlib.axes._subplots.AxesSubplot object at 0x7fd7fb59c590>,\n",
              "        <matplotlib.axes._subplots.AxesSubplot object at 0x7fd7fb59c5d0>],\n",
              "       [<matplotlib.axes._subplots.AxesSubplot object at 0x7fd7fb5cfcd0>,\n",
              "        <matplotlib.axes._subplots.AxesSubplot object at 0x7fd7f87c0810>,\n",
              "        <matplotlib.axes._subplots.AxesSubplot object at 0x7fd7fd1b5e10>]],\n",
              "      dtype=object)"
            ]
          },
          "metadata": {},
          "execution_count": 79
        },
        {
          "output_type": "display_data",
          "data": {
            "image/png": "[encoded data removed]",
            "text/plain": [
              "<Figure size 1440x1080 with 12 Axes>"
            ]
          },
          "metadata": {
            "needs_background": "light"
          }
        }
      ]
    },
    {
      "cell_type": "markdown",
      "metadata": {
        "id": "TsU7JyJuitSd"
      },
      "source": [
        "### menghilangkan outliner menggunakan metode z-score"
      ]
    },
    {
      "cell_type": "code",
      "metadata": {
        "id": "8-reee_4iplJ"
      },
      "source": [
        "z_score = stats.zscore(DataKendaraan_train)\n",
        "absis_z_score = np.abs(z_score)\n",
        "filterData = (absis_z_score < 3).all(axis = 1)\n",
        "removeOutlinerKendaraan_train = DataKendaraan_train[filterData]"
      ],
      "execution_count": null,
      "outputs": []
    },
    {
      "cell_type": "code",
      "metadata": {
        "id": "1VNnAdYNmCMy",
        "colab": {
          "base_uri": "https://localhost:8080/"
        },
        "outputId": "3247e290-1d92-4f4a-9deb-48a1e17426d6"
      },
      "source": [
        "print(\"Data sebelum outliner dihapus :\", DataKendaraan_train.shape)\n",
        "print(\"Data setelah outliner dihapus :\", removeOutlinerKendaraan_train.shape)"
      ],
      "execution_count": null,
      "outputs": [
        {
          "output_type": "stream",
          "name": "stdout",
          "text": [
            "Data sebelum outliner dihapus : (220896, 11)\n",
            "Data setelah outliner dihapus : (219207, 11)\n"
          ]
        }
      ]
    },
    {
      "cell_type": "code",
      "metadata": {
        "id": "UCGuj7LUjXDZ"
      },
      "source": [
        "DataTrain_Lama = DataKendaraan_train\n",
        "DataKendaraan_train = removeOutlinerKendaraan_train"
      ],
      "execution_count": null,
      "outputs": []
    },
    {
      "cell_type": "code",
      "metadata": {
        "id": "PtNQ2-jElDkg",
        "colab": {
          "base_uri": "https://localhost:8080/"
        },
        "outputId": "c3028849-ef2b-40d2-c129-3994ed98c14b"
      },
      "source": [
        "DataKendaraan_train['SIM'].value_counts()"
      ],
      "execution_count": null,
      "outputs": [
        {
          "output_type": "execute_result",
          "data": {
            "text/plain": [
              "1.0    219207\n",
              "Name: SIM, dtype: int64"
            ]
          },
          "metadata": {},
          "execution_count": 83
        }
      ]
    },
    {
      "cell_type": "code",
      "source": [
        "DataKendaraan_train.info()"
      ],
      "metadata": {
        "colab": {
          "base_uri": "https://localhost:8080/"
        },
        "id": "4_5uCsFk_zQZ",
        "outputId": "80760fa0-2a36-4f9e-fde2-fa3e7d8007ad"
      },
      "execution_count": null,
      "outputs": [
        {
          "output_type": "stream",
          "name": "stdout",
          "text": [
            "<class 'pandas.core.frame.DataFrame'>\n",
            "Int64Index: 219207 entries, 0 to 285830\n",
            "Data columns (total 11 columns):\n",
            " #   Column             Non-Null Count   Dtype  \n",
            "---  ------             --------------   -----  \n",
            " 0   Jenis_Kelamin      219207 non-null  int64  \n",
            " 1   Umur               219207 non-null  float64\n",
            " 2   SIM                219207 non-null  float64\n",
            " 3   Kode_Daerah        219207 non-null  float64\n",
            " 4   Sudah_Asuransi     219207 non-null  float64\n",
            " 5   Umur_Kendaraan     219207 non-null  int64  \n",
            " 6   Kendaraan_Rusak    219207 non-null  int64  \n",
            " 7   Premi              219207 non-null  float64\n",
            " 8   Kanal_Penjualan    219207 non-null  float64\n",
            " 9   Lama_Berlangganan  219207 non-null  float64\n",
            " 10  Tertarik           219207 non-null  int64  \n",
            "dtypes: float64(7), int64(4)\n",
            "memory usage: 20.1 MB\n"
          ]
        }
      ]
    },
    {
      "cell_type": "markdown",
      "metadata": {
        "id": "DXPy3mGtls5v"
      },
      "source": [
        "### Drop kolom yang tidak digunakan"
      ]
    },
    {
      "cell_type": "code",
      "metadata": {
        "id": "_8tm1lp5lu8T"
      },
      "source": [
        "#kendaraan_test\n",
        "dropKolom = ['SIM']\n",
        "DataKendaraan_test = DataKendaraan_test.drop(dropKolom, axis = 1)\n",
        "\n",
        "#kendaraan_train\n",
        "dropKolom = ['SIM']\n",
        "DataKendaraan_train = DataKendaraan_train.drop(dropKolom, axis = 1)"
      ],
      "execution_count": null,
      "outputs": []
    },
    {
      "cell_type": "markdown",
      "metadata": {
        "id": "EslGfHQIlktA"
      },
      "source": [
        "### Membuat heatmap"
      ]
    },
    {
      "cell_type": "code",
      "metadata": {
        "id": "8HG67keglQ4X",
        "colab": {
          "base_uri": "https://localhost:8080/",
          "height": 705
        },
        "outputId": "a17ef9ba-fc66-4d20-8111-b3c498abe734"
      },
      "source": [
        "plt.figure(figsize = (10,10))\n",
        "sns.heatmap(DataKendaraan_train.corr(), annot = True)"
      ],
      "execution_count": null,
      "outputs": [
        {
          "output_type": "execute_result",
          "data": {
            "text/plain": [
              "<matplotlib.axes._subplots.AxesSubplot at 0x7fd7fce11490>"
            ]
          },
          "metadata": {},
          "execution_count": 86
        },
        {
          "output_type": "display_data",
          "data": {
            "image/png": "[encoded data removed]",
            "text/plain": [
              "<Figure size 720x720 with 2 Axes>"
            ]
          },
          "metadata": {
            "needs_background": "light"
          }
        }
      ]
    },
    {
      "cell_type": "markdown",
      "metadata": {
        "id": "fRpir41XssC-"
      },
      "source": [
        "### Seleksi data"
      ]
    },
    {
      "cell_type": "markdown",
      "metadata": {
        "id": "b1ZfXR4Uf-of"
      },
      "source": [
        "**kendaraan_test**"
      ]
    },
    {
      "cell_type": "code",
      "metadata": {
        "id": "LXCn7sAEgA56",
        "colab": {
          "base_uri": "https://localhost:8080/"
        },
        "outputId": "b60af429-81df-4c95-87eb-3a17b5f8fb45"
      },
      "source": [
        "DataKendaraanTest_y = DataKendaraan_test['Tertarik']\n",
        "DataKendaraanTest_y"
      ],
      "execution_count": null,
      "outputs": [
        {
          "output_type": "execute_result",
          "data": {
            "text/plain": [
              "0        0\n",
              "1        0\n",
              "2        0\n",
              "3        0\n",
              "4        0\n",
              "        ..\n",
              "47634    0\n",
              "47635    0\n",
              "47636    0\n",
              "47637    1\n",
              "47638    0\n",
              "Name: Tertarik, Length: 47639, dtype: int64"
            ]
          },
          "metadata": {},
          "execution_count": 87
        }
      ]
    },
    {
      "cell_type": "code",
      "metadata": {
        "id": "jhoxyE2-jwtJ"
      },
      "source": [
        "seleksiData_test = DataKendaraan_test\n",
        "DataKendaraanTest_x = seleksiData_test\n",
        "DataKendaraanTest_x.drop(columns = ['Tertarik'], inplace = True)"
      ],
      "execution_count": null,
      "outputs": []
    },
    {
      "cell_type": "code",
      "metadata": {
        "id": "UoORHP_clGmR"
      },
      "source": [
        "scaler = preprocessing.MinMaxScaler()\n",
        "DataKendaraanTest_x = scaler.fit_transform(DataKendaraanTest_x)"
      ],
      "execution_count": null,
      "outputs": []
    },
    {
      "cell_type": "code",
      "metadata": {
        "id": "rYvsaG9om23h",
        "colab": {
          "base_uri": "https://localhost:8080/",
          "height": 424
        },
        "outputId": "3592132e-4bef-4286-d873-1b185c902cac"
      },
      "source": [
        "DataBaru_test = pd.DataFrame(DataKendaraanTest_x, columns = seleksiData_test.columns)\n",
        "DataBaru_test"
      ],
      "execution_count": null,
      "outputs": [
        {
          "output_type": "execute_result",
          "data": {
            "text/html": [
              "\n",
              "  <div id=\"df-68c115f3-f041-468b-861f-fe0fab55934f\">\n",
              "    <div class=\"colab-df-container\">\n",
              "      <div>\n",
              "<style scoped>\n",
              "    .dataframe tbody tr th:only-of-type {\n",
              "        vertical-align: middle;\n",
              "    }\n",
              "\n",
              "    .dataframe tbody tr th {\n",
              "        vertical-align: top;\n",
              "    }\n",
              "\n",
              "    .dataframe thead th {\n",
              "        text-align: right;\n",
              "    }\n",
              "</style>\n",
              "<table border=\"1\" class=\"dataframe\">\n",
              "  <thead>\n",
              "    <tr style=\"text-align: right;\">\n",
              "      <th></th>\n",
              "      <th>Jenis_Kelamin</th>\n",
              "      <th>Umur</th>\n",
              "      <th>Kode_Daerah</th>\n",
              "      <th>Sudah_Asuransi</th>\n",
              "      <th>Umur_Kendaraan</th>\n",
              "      <th>Kendaraan_Rusak</th>\n",
              "      <th>Premi</th>\n",
              "      <th>Kanal_Penjualan</th>\n",
              "      <th>Lama_Berlangganan</th>\n",
              "    </tr>\n",
              "  </thead>\n",
              "  <tbody>\n",
              "    <tr>\n",
              "      <th>0</th>\n",
              "      <td>1.0</td>\n",
              "      <td>0.446154</td>\n",
              "      <td>0.153846</td>\n",
              "      <td>0.0</td>\n",
              "      <td>0.0</td>\n",
              "      <td>0.0</td>\n",
              "      <td>0.082475</td>\n",
              "      <td>0.154321</td>\n",
              "      <td>0.467128</td>\n",
              "    </tr>\n",
              "    <tr>\n",
              "      <th>1</th>\n",
              "      <td>0.0</td>\n",
              "      <td>0.030769</td>\n",
              "      <td>0.903846</td>\n",
              "      <td>1.0</td>\n",
              "      <td>0.5</td>\n",
              "      <td>1.0</td>\n",
              "      <td>0.068822</td>\n",
              "      <td>0.932099</td>\n",
              "      <td>0.799308</td>\n",
              "    </tr>\n",
              "    <tr>\n",
              "      <th>2</th>\n",
              "      <td>0.0</td>\n",
              "      <td>0.061538</td>\n",
              "      <td>0.538462</td>\n",
              "      <td>1.0</td>\n",
              "      <td>0.5</td>\n",
              "      <td>1.0</td>\n",
              "      <td>0.200636</td>\n",
              "      <td>0.932099</td>\n",
              "      <td>0.179931</td>\n",
              "    </tr>\n",
              "    <tr>\n",
              "      <th>3</th>\n",
              "      <td>0.0</td>\n",
              "      <td>0.400000</td>\n",
              "      <td>0.153846</td>\n",
              "      <td>1.0</td>\n",
              "      <td>0.0</td>\n",
              "      <td>1.0</td>\n",
              "      <td>0.062575</td>\n",
              "      <td>0.759259</td>\n",
              "      <td>0.083045</td>\n",
              "    </tr>\n",
              "    <tr>\n",
              "      <th>4</th>\n",
              "      <td>0.0</td>\n",
              "      <td>0.230769</td>\n",
              "      <td>0.442308</td>\n",
              "      <td>0.0</td>\n",
              "      <td>0.0</td>\n",
              "      <td>0.0</td>\n",
              "      <td>0.045268</td>\n",
              "      <td>0.932099</td>\n",
              "      <td>0.757785</td>\n",
              "    </tr>\n",
              "    <tr>\n",
              "      <th>...</th>\n",
              "      <td>...</td>\n",
              "      <td>...</td>\n",
              "      <td>...</td>\n",
              "      <td>...</td>\n",
              "      <td>...</td>\n",
              "      <td>...</td>\n",
              "      <td>...</td>\n",
              "      <td>...</td>\n",
              "      <td>...</td>\n",
              "    </tr>\n",
              "    <tr>\n",
              "      <th>47634</th>\n",
              "      <td>0.0</td>\n",
              "      <td>0.630769</td>\n",
              "      <td>0.884615</td>\n",
              "      <td>0.0</td>\n",
              "      <td>1.0</td>\n",
              "      <td>0.0</td>\n",
              "      <td>0.052851</td>\n",
              "      <td>0.759259</td>\n",
              "      <td>0.197232</td>\n",
              "    </tr>\n",
              "    <tr>\n",
              "      <th>47635</th>\n",
              "      <td>0.0</td>\n",
              "      <td>0.323077</td>\n",
              "      <td>0.288462</td>\n",
              "      <td>0.0</td>\n",
              "      <td>0.0</td>\n",
              "      <td>0.0</td>\n",
              "      <td>0.000000</td>\n",
              "      <td>0.962963</td>\n",
              "      <td>0.768166</td>\n",
              "    </tr>\n",
              "    <tr>\n",
              "      <th>47636</th>\n",
              "      <td>0.0</td>\n",
              "      <td>0.061538</td>\n",
              "      <td>0.557692</td>\n",
              "      <td>1.0</td>\n",
              "      <td>0.5</td>\n",
              "      <td>1.0</td>\n",
              "      <td>0.056687</td>\n",
              "      <td>0.932099</td>\n",
              "      <td>0.695502</td>\n",
              "    </tr>\n",
              "    <tr>\n",
              "      <th>47637</th>\n",
              "      <td>0.0</td>\n",
              "      <td>0.600000</td>\n",
              "      <td>0.576923</td>\n",
              "      <td>0.0</td>\n",
              "      <td>0.0</td>\n",
              "      <td>0.0</td>\n",
              "      <td>0.065406</td>\n",
              "      <td>0.154321</td>\n",
              "      <td>0.792388</td>\n",
              "    </tr>\n",
              "    <tr>\n",
              "      <th>47638</th>\n",
              "      <td>0.0</td>\n",
              "      <td>0.492308</td>\n",
              "      <td>0.596154</td>\n",
              "      <td>0.0</td>\n",
              "      <td>0.0</td>\n",
              "      <td>1.0</td>\n",
              "      <td>0.000000</td>\n",
              "      <td>0.759259</td>\n",
              "      <td>0.553633</td>\n",
              "    </tr>\n",
              "  </tbody>\n",
              "</table>\n",
              "<p>47639 rows × 9 columns</p>\n",
              "</div>\n",
              "      <button class=\"colab-df-convert\" onclick=\"convertToInteractive('df-68c115f3-f041-468b-861f-fe0fab55934f')\"\n",
              "              title=\"Convert this dataframe to an interactive table.\"\n",
              "              style=\"display:none;\">\n",
              "        \n",
              "  <svg xmlns=\"http://www.w3.org/2000/svg\" height=\"24px\"viewBox=\"0 0 24 24\"\n",
              "       width=\"24px\">\n",
              "    <path d=\"M0 0h24v24H0V0z\" fill=\"none\"/>\n",
              "    <path d=\"M18.56 5.44l.94 2.06.94-2.06 2.06-.94-2.06-.94-.94-2.06-.94 2.06-2.06.94zm-11 1L8.5 8.5l.94-2.06 2.06-.94-2.06-.94L8.5 2.5l-.94 2.06-2.06.94zm10 10l.94 2.06.94-2.06 2.06-.94-2.06-.94-.94-2.06-.94 2.06-2.06.94z\"/><path d=\"M17.41 7.96l-1.37-1.37c-.4-.4-.92-.59-1.43-.59-.52 0-1.04.2-1.43.59L10.3 9.45l-7.72 7.72c-.78.78-.78 2.05 0 2.83L4 21.41c.39.39.9.59 1.41.59.51 0 1.02-.2 1.41-.59l7.78-7.78 2.81-2.81c.8-.78.8-2.07 0-2.86zM5.41 20L4 18.59l7.72-7.72 1.47 1.35L5.41 20z\"/>\n",
              "  </svg>\n",
              "      </button>\n",
              "      \n",
              "  <style>\n",
              "    .colab-df-container {\n",
              "      display:flex;\n",
              "      flex-wrap:wrap;\n",
              "      gap: 12px;\n",
              "    }\n",
              "\n",
              "    .colab-df-convert {\n",
              "      background-color: #E8F0FE;\n",
              "      border: none;\n",
              "      border-radius: 50%;\n",
              "      cursor: pointer;\n",
              "      display: none;\n",
              "      fill: #1967D2;\n",
              "      height: 32px;\n",
              "      padding: 0 0 0 0;\n",
              "      width: 32px;\n",
              "    }\n",
              "\n",
              "    .colab-df-convert:hover {\n",
              "      background-color: #E2EBFA;\n",
              "      box-shadow: 0px 1px 2px rgba(60, 64, 67, 0.3), 0px 1px 3px 1px rgba(60, 64, 67, 0.15);\n",
              "      fill: #174EA6;\n",
              "    }\n",
              "\n",
              "    [theme=dark] .colab-df-convert {\n",
              "      background-color: #3B4455;\n",
              "      fill: #D2E3FC;\n",
              "    }\n",
              "\n",
              "    [theme=dark] .colab-df-convert:hover {\n",
              "      background-color: #434B5C;\n",
              "      box-shadow: 0px 1px 3px 1px rgba(0, 0, 0, 0.15);\n",
              "      filter: drop-shadow(0px 1px 2px rgba(0, 0, 0, 0.3));\n",
              "      fill: #FFFFFF;\n",
              "    }\n",
              "  </style>\n",
              "\n",
              "      <script>\n",
              "        const buttonEl =\n",
              "          document.querySelector('#df-68c115f3-f041-468b-861f-fe0fab55934f button.colab-df-convert');\n",
              "        buttonEl.style.display =\n",
              "          google.colab.kernel.accessAllowed ? 'block' : 'none';\n",
              "\n",
              "        async function convertToInteractive(key) {\n",
              "          const element = document.querySelector('#df-68c115f3-f041-468b-861f-fe0fab55934f');\n",
              "          const dataTable =\n",
              "            await google.colab.kernel.invokeFunction('convertToInteractive',\n",
              "                                                     [key], {});\n",
              "          if (!dataTable) return;\n",
              "\n",
              "          const docLinkHtml = 'Like what you see? Visit the ' +\n",
              "            '<a target=\"_blank\" href=https://colab.research.google.com/notebooks/data_table.ipynb>data table notebook</a>'\n",
              "            + ' to learn more about interactive tables.';\n",
              "          element.innerHTML = '';\n",
              "          dataTable['output_type'] = 'display_data';\n",
              "          await google.colab.output.renderOutput(dataTable, element);\n",
              "          const docLink = document.createElement('div');\n",
              "          docLink.innerHTML = docLinkHtml;\n",
              "          element.appendChild(docLink);\n",
              "        }\n",
              "      </script>\n",
              "    </div>\n",
              "  </div>\n",
              "  "
            ],
            "text/plain": [
              "       Jenis_Kelamin      Umur  ...  Kanal_Penjualan  Lama_Berlangganan\n",
              "0                1.0  0.446154  ...         0.154321           0.467128\n",
              "1                0.0  0.030769  ...         0.932099           0.799308\n",
              "2                0.0  0.061538  ...         0.932099           0.179931\n",
              "3                0.0  0.400000  ...         0.759259           0.083045\n",
              "4                0.0  0.230769  ...         0.932099           0.757785\n",
              "...              ...       ...  ...              ...                ...\n",
              "47634            0.0  0.630769  ...         0.759259           0.197232\n",
              "47635            0.0  0.323077  ...         0.962963           0.768166\n",
              "47636            0.0  0.061538  ...         0.932099           0.695502\n",
              "47637            0.0  0.600000  ...         0.154321           0.792388\n",
              "47638            0.0  0.492308  ...         0.759259           0.553633\n",
              "\n",
              "[47639 rows x 9 columns]"
            ]
          },
          "metadata": {},
          "execution_count": 90
        }
      ]
    },
    {
      "cell_type": "code",
      "source": [
        "DataBaru_test.info()"
      ],
      "metadata": {
        "colab": {
          "base_uri": "https://localhost:8080/"
        },
        "id": "_wEqiczAAFnb",
        "outputId": "a3774e67-5eae-4b03-e27a-0c08939abfc0"
      },
      "execution_count": null,
      "outputs": [
        {
          "output_type": "stream",
          "name": "stdout",
          "text": [
            "<class 'pandas.core.frame.DataFrame'>\n",
            "RangeIndex: 47639 entries, 0 to 47638\n",
            "Data columns (total 9 columns):\n",
            " #   Column             Non-Null Count  Dtype  \n",
            "---  ------             --------------  -----  \n",
            " 0   Jenis_Kelamin      47639 non-null  float64\n",
            " 1   Umur               47639 non-null  float64\n",
            " 2   Kode_Daerah        47639 non-null  float64\n",
            " 3   Sudah_Asuransi     47639 non-null  float64\n",
            " 4   Umur_Kendaraan     47639 non-null  float64\n",
            " 5   Kendaraan_Rusak    47639 non-null  float64\n",
            " 6   Premi              47639 non-null  float64\n",
            " 7   Kanal_Penjualan    47639 non-null  float64\n",
            " 8   Lama_Berlangganan  47639 non-null  float64\n",
            "dtypes: float64(9)\n",
            "memory usage: 3.3 MB\n"
          ]
        }
      ]
    },
    {
      "cell_type": "markdown",
      "metadata": {
        "id": "YQ2_3rgrGQ6i"
      },
      "source": [
        "**kendaraan_train**"
      ]
    },
    {
      "cell_type": "code",
      "metadata": {
        "id": "oPqCPYdzsls_",
        "colab": {
          "base_uri": "https://localhost:8080/"
        },
        "outputId": "1187cf6a-f3b6-47e9-db43-24721cc8395e"
      },
      "source": [
        "DataKendaraanTrain_y = DataKendaraan_train['Tertarik']\n",
        "DataKendaraanTrain_y"
      ],
      "execution_count": null,
      "outputs": [
        {
          "output_type": "execute_result",
          "data": {
            "text/plain": [
              "0         0\n",
              "1         0\n",
              "3         0\n",
              "5         0\n",
              "7         0\n",
              "         ..\n",
              "285826    0\n",
              "285827    0\n",
              "285828    0\n",
              "285829    0\n",
              "285830    0\n",
              "Name: Tertarik, Length: 219207, dtype: int64"
            ]
          },
          "metadata": {},
          "execution_count": 92
        }
      ]
    },
    {
      "cell_type": "code",
      "source": [
        ""
      ],
      "metadata": {
        "id": "Ux5S6NkFAJ7R"
      },
      "execution_count": null,
      "outputs": []
    },
    {
      "cell_type": "code",
      "metadata": {
        "id": "aX8dtgYLteaj"
      },
      "source": [
        "seleksiData_train = DataKendaraan_train\n",
        "DataKendaraanTrain_x = seleksiData_train\n",
        "DataKendaraanTrain_x.drop(columns = ['Tertarik'], inplace = True)"
      ],
      "execution_count": null,
      "outputs": []
    },
    {
      "cell_type": "code",
      "metadata": {
        "id": "2k8_HAoxtysy"
      },
      "source": [
        "scaler = preprocessing.MinMaxScaler()\n",
        "DataKendaraanTrain_x = scaler.fit_transform(DataKendaraanTrain_x)"
      ],
      "execution_count": null,
      "outputs": []
    },
    {
      "cell_type": "code",
      "metadata": {
        "id": "hY3Z-WynfdBu",
        "colab": {
          "base_uri": "https://localhost:8080/",
          "height": 424
        },
        "outputId": "639de3d4-6083-426b-a748-7e482f3e467a"
      },
      "source": [
        "\n",
        "DataBaru_train = pd.DataFrame(DataKendaraanTrain_x, columns = seleksiData_train.columns)\n",
        "DataBaru_train"
      ],
      "execution_count": null,
      "outputs": [
        {
          "output_type": "execute_result",
          "data": {
            "text/html": [
              "\n",
              "  <div id=\"df-dd5153b4-15dc-48a6-be3a-c80936ed80e1\">\n",
              "    <div class=\"colab-df-container\">\n",
              "      <div>\n",
              "<style scoped>\n",
              "    .dataframe tbody tr th:only-of-type {\n",
              "        vertical-align: middle;\n",
              "    }\n",
              "\n",
              "    .dataframe tbody tr th {\n",
              "        vertical-align: top;\n",
              "    }\n",
              "\n",
              "    .dataframe thead th {\n",
              "        text-align: right;\n",
              "    }\n",
              "</style>\n",
              "<table border=\"1\" class=\"dataframe\">\n",
              "  <thead>\n",
              "    <tr style=\"text-align: right;\">\n",
              "      <th></th>\n",
              "      <th>Jenis_Kelamin</th>\n",
              "      <th>Umur</th>\n",
              "      <th>Kode_Daerah</th>\n",
              "      <th>Sudah_Asuransi</th>\n",
              "      <th>Umur_Kendaraan</th>\n",
              "      <th>Kendaraan_Rusak</th>\n",
              "      <th>Premi</th>\n",
              "      <th>Kanal_Penjualan</th>\n",
              "      <th>Lama_Berlangganan</th>\n",
              "    </tr>\n",
              "  </thead>\n",
              "  <tbody>\n",
              "    <tr>\n",
              "      <th>0</th>\n",
              "      <td>1.0</td>\n",
              "      <td>0.156250</td>\n",
              "      <td>0.634615</td>\n",
              "      <td>1.0</td>\n",
              "      <td>0.5</td>\n",
              "      <td>1.0</td>\n",
              "      <td>0.325637</td>\n",
              "      <td>0.932099</td>\n",
              "      <td>0.301038</td>\n",
              "    </tr>\n",
              "    <tr>\n",
              "      <th>1</th>\n",
              "      <td>0.0</td>\n",
              "      <td>0.437500</td>\n",
              "      <td>0.750000</td>\n",
              "      <td>0.0</td>\n",
              "      <td>1.0</td>\n",
              "      <td>0.0</td>\n",
              "      <td>0.297059</td>\n",
              "      <td>0.172840</td>\n",
              "      <td>0.512111</td>\n",
              "    </tr>\n",
              "    <tr>\n",
              "      <th>2</th>\n",
              "      <td>1.0</td>\n",
              "      <td>0.593750</td>\n",
              "      <td>0.923077</td>\n",
              "      <td>0.0</td>\n",
              "      <td>0.0</td>\n",
              "      <td>1.0</td>\n",
              "      <td>0.000000</td>\n",
              "      <td>0.759259</td>\n",
              "      <td>0.183391</td>\n",
              "    </tr>\n",
              "    <tr>\n",
              "      <th>3</th>\n",
              "      <td>0.0</td>\n",
              "      <td>0.015625</td>\n",
              "      <td>0.673077</td>\n",
              "      <td>1.0</td>\n",
              "      <td>0.5</td>\n",
              "      <td>1.0</td>\n",
              "      <td>0.257763</td>\n",
              "      <td>0.932099</td>\n",
              "      <td>0.557093</td>\n",
              "    </tr>\n",
              "    <tr>\n",
              "      <th>4</th>\n",
              "      <td>0.0</td>\n",
              "      <td>0.046875</td>\n",
              "      <td>0.538462</td>\n",
              "      <td>1.0</td>\n",
              "      <td>0.5</td>\n",
              "      <td>1.0</td>\n",
              "      <td>0.310764</td>\n",
              "      <td>0.932099</td>\n",
              "      <td>0.733564</td>\n",
              "    </tr>\n",
              "    <tr>\n",
              "      <th>...</th>\n",
              "      <td>...</td>\n",
              "      <td>...</td>\n",
              "      <td>...</td>\n",
              "      <td>...</td>\n",
              "      <td>...</td>\n",
              "      <td>...</td>\n",
              "      <td>...</td>\n",
              "      <td>...</td>\n",
              "      <td>...</td>\n",
              "    </tr>\n",
              "    <tr>\n",
              "      <th>219202</th>\n",
              "      <td>1.0</td>\n",
              "      <td>0.046875</td>\n",
              "      <td>0.076923</td>\n",
              "      <td>1.0</td>\n",
              "      <td>0.5</td>\n",
              "      <td>1.0</td>\n",
              "      <td>0.299469</td>\n",
              "      <td>0.932099</td>\n",
              "      <td>0.716263</td>\n",
              "    </tr>\n",
              "    <tr>\n",
              "      <th>219203</th>\n",
              "      <td>1.0</td>\n",
              "      <td>0.015625</td>\n",
              "      <td>0.884615</td>\n",
              "      <td>1.0</td>\n",
              "      <td>0.5</td>\n",
              "      <td>1.0</td>\n",
              "      <td>0.539193</td>\n",
              "      <td>0.932099</td>\n",
              "      <td>0.138408</td>\n",
              "    </tr>\n",
              "    <tr>\n",
              "      <th>219204</th>\n",
              "      <td>1.0</td>\n",
              "      <td>0.046875</td>\n",
              "      <td>0.961538</td>\n",
              "      <td>1.0</td>\n",
              "      <td>0.5</td>\n",
              "      <td>1.0</td>\n",
              "      <td>0.604131</td>\n",
              "      <td>0.932099</td>\n",
              "      <td>0.747405</td>\n",
              "    </tr>\n",
              "    <tr>\n",
              "      <th>219205</th>\n",
              "      <td>0.0</td>\n",
              "      <td>0.750000</td>\n",
              "      <td>0.134615</td>\n",
              "      <td>1.0</td>\n",
              "      <td>0.0</td>\n",
              "      <td>1.0</td>\n",
              "      <td>0.357355</td>\n",
              "      <td>0.759259</td>\n",
              "      <td>0.899654</td>\n",
              "    </tr>\n",
              "    <tr>\n",
              "      <th>219206</th>\n",
              "      <td>0.0</td>\n",
              "      <td>0.390625</td>\n",
              "      <td>0.538462</td>\n",
              "      <td>0.0</td>\n",
              "      <td>0.0</td>\n",
              "      <td>0.0</td>\n",
              "      <td>0.433985</td>\n",
              "      <td>0.154321</td>\n",
              "      <td>0.117647</td>\n",
              "    </tr>\n",
              "  </tbody>\n",
              "</table>\n",
              "<p>219207 rows × 9 columns</p>\n",
              "</div>\n",
              "      <button class=\"colab-df-convert\" onclick=\"convertToInteractive('df-dd5153b4-15dc-48a6-be3a-c80936ed80e1')\"\n",
              "              title=\"Convert this dataframe to an interactive table.\"\n",
              "              style=\"display:none;\">\n",
              "        \n",
              "  <svg xmlns=\"http://www.w3.org/2000/svg\" height=\"24px\"viewBox=\"0 0 24 24\"\n",
              "       width=\"24px\">\n",
              "    <path d=\"M0 0h24v24H0V0z\" fill=\"none\"/>\n",
              "    <path d=\"M18.56 5.44l.94 2.06.94-2.06 2.06-.94-2.06-.94-.94-2.06-.94 2.06-2.06.94zm-11 1L8.5 8.5l.94-2.06 2.06-.94-2.06-.94L8.5 2.5l-.94 2.06-2.06.94zm10 10l.94 2.06.94-2.06 2.06-.94-2.06-.94-.94-2.06-.94 2.06-2.06.94z\"/><path d=\"M17.41 7.96l-1.37-1.37c-.4-.4-.92-.59-1.43-.59-.52 0-1.04.2-1.43.59L10.3 9.45l-7.72 7.72c-.78.78-.78 2.05 0 2.83L4 21.41c.39.39.9.59 1.41.59.51 0 1.02-.2 1.41-.59l7.78-7.78 2.81-2.81c.8-.78.8-2.07 0-2.86zM5.41 20L4 18.59l7.72-7.72 1.47 1.35L5.41 20z\"/>\n",
              "  </svg>\n",
              "      </button>\n",
              "      \n",
              "  <style>\n",
              "    .colab-df-container {\n",
              "      display:flex;\n",
              "      flex-wrap:wrap;\n",
              "      gap: 12px;\n",
              "    }\n",
              "\n",
              "    .colab-df-convert {\n",
              "      background-color: #E8F0FE;\n",
              "      border: none;\n",
              "      border-radius: 50%;\n",
              "      cursor: pointer;\n",
              "      display: none;\n",
              "      fill: #1967D2;\n",
              "      height: 32px;\n",
              "      padding: 0 0 0 0;\n",
              "      width: 32px;\n",
              "    }\n",
              "\n",
              "    .colab-df-convert:hover {\n",
              "      background-color: #E2EBFA;\n",
              "      box-shadow: 0px 1px 2px rgba(60, 64, 67, 0.3), 0px 1px 3px 1px rgba(60, 64, 67, 0.15);\n",
              "      fill: #174EA6;\n",
              "    }\n",
              "\n",
              "    [theme=dark] .colab-df-convert {\n",
              "      background-color: #3B4455;\n",
              "      fill: #D2E3FC;\n",
              "    }\n",
              "\n",
              "    [theme=dark] .colab-df-convert:hover {\n",
              "      background-color: #434B5C;\n",
              "      box-shadow: 0px 1px 3px 1px rgba(0, 0, 0, 0.15);\n",
              "      filter: drop-shadow(0px 1px 2px rgba(0, 0, 0, 0.3));\n",
              "      fill: #FFFFFF;\n",
              "    }\n",
              "  </style>\n",
              "\n",
              "      <script>\n",
              "        const buttonEl =\n",
              "          document.querySelector('#df-dd5153b4-15dc-48a6-be3a-c80936ed80e1 button.colab-df-convert');\n",
              "        buttonEl.style.display =\n",
              "          google.colab.kernel.accessAllowed ? 'block' : 'none';\n",
              "\n",
              "        async function convertToInteractive(key) {\n",
              "          const element = document.querySelector('#df-dd5153b4-15dc-48a6-be3a-c80936ed80e1');\n",
              "          const dataTable =\n",
              "            await google.colab.kernel.invokeFunction('convertToInteractive',\n",
              "                                                     [key], {});\n",
              "          if (!dataTable) return;\n",
              "\n",
              "          const docLinkHtml = 'Like what you see? Visit the ' +\n",
              "            '<a target=\"_blank\" href=https://colab.research.google.com/notebooks/data_table.ipynb>data table notebook</a>'\n",
              "            + ' to learn more about interactive tables.';\n",
              "          element.innerHTML = '';\n",
              "          dataTable['output_type'] = 'display_data';\n",
              "          await google.colab.output.renderOutput(dataTable, element);\n",
              "          const docLink = document.createElement('div');\n",
              "          docLink.innerHTML = docLinkHtml;\n",
              "          element.appendChild(docLink);\n",
              "        }\n",
              "      </script>\n",
              "    </div>\n",
              "  </div>\n",
              "  "
            ],
            "text/plain": [
              "        Jenis_Kelamin      Umur  ...  Kanal_Penjualan  Lama_Berlangganan\n",
              "0                 1.0  0.156250  ...         0.932099           0.301038\n",
              "1                 0.0  0.437500  ...         0.172840           0.512111\n",
              "2                 1.0  0.593750  ...         0.759259           0.183391\n",
              "3                 0.0  0.015625  ...         0.932099           0.557093\n",
              "4                 0.0  0.046875  ...         0.932099           0.733564\n",
              "...               ...       ...  ...              ...                ...\n",
              "219202            1.0  0.046875  ...         0.932099           0.716263\n",
              "219203            1.0  0.015625  ...         0.932099           0.138408\n",
              "219204            1.0  0.046875  ...         0.932099           0.747405\n",
              "219205            0.0  0.750000  ...         0.759259           0.899654\n",
              "219206            0.0  0.390625  ...         0.154321           0.117647\n",
              "\n",
              "[219207 rows x 9 columns]"
            ]
          },
          "metadata": {},
          "execution_count": 95
        }
      ]
    },
    {
      "cell_type": "code",
      "source": [
        "DataBaru_train.info()"
      ],
      "metadata": {
        "colab": {
          "base_uri": "https://localhost:8080/"
        },
        "id": "Fz_-wrwxAZRT",
        "outputId": "ff9e694d-9924-4805-fa9d-7f799e4fbb78"
      },
      "execution_count": null,
      "outputs": [
        {
          "output_type": "stream",
          "name": "stdout",
          "text": [
            "<class 'pandas.core.frame.DataFrame'>\n",
            "RangeIndex: 219207 entries, 0 to 219206\n",
            "Data columns (total 9 columns):\n",
            " #   Column             Non-Null Count   Dtype  \n",
            "---  ------             --------------   -----  \n",
            " 0   Jenis_Kelamin      219207 non-null  float64\n",
            " 1   Umur               219207 non-null  float64\n",
            " 2   Kode_Daerah        219207 non-null  float64\n",
            " 3   Sudah_Asuransi     219207 non-null  float64\n",
            " 4   Umur_Kendaraan     219207 non-null  float64\n",
            " 5   Kendaraan_Rusak    219207 non-null  float64\n",
            " 6   Premi              219207 non-null  float64\n",
            " 7   Kanal_Penjualan    219207 non-null  float64\n",
            " 8   Lama_Berlangganan  219207 non-null  float64\n",
            "dtypes: float64(9)\n",
            "memory usage: 15.1 MB\n"
          ]
        }
      ]
    },
    {
      "cell_type": "markdown",
      "source": [
        "EXPORT DATA PREPROCESSING"
      ],
      "metadata": {
        "id": "CQ-c6KmA-YjO"
      }
    },
    {
      "cell_type": "code",
      "source": [
        "DataBaru_train.to_csv(\"hasil_train_preprocessing.csv\")"
      ],
      "metadata": {
        "id": "9pYmWEoZ9tEF"
      },
      "execution_count": null,
      "outputs": []
    },
    {
      "cell_type": "code",
      "source": [
        "DataBaru_test.to_csv(\"hasil_test_preprocessing.csv\")"
      ],
      "metadata": {
        "id": "qAvWtcG1-G87"
      },
      "execution_count": null,
      "outputs": []
    },
    {
      "cell_type": "markdown",
      "metadata": {
        "id": "Y6Qd_z3KnvnQ"
      },
      "source": [
        "#PEMODELAN"
      ]
    },
    {
      "cell_type": "markdown",
      "metadata": {
        "id": "nvb_jadcoyCd"
      },
      "source": [
        "### Menyimpan Data Pemodelan"
      ]
    },
    {
      "cell_type": "code",
      "metadata": {
        "id": "EkwmIsbtofLR"
      },
      "source": [
        "Result = pd.DataFrame(columns = ['Classifier', 'Akurasi'])"
      ],
      "execution_count": null,
      "outputs": []
    },
    {
      "cell_type": "markdown",
      "metadata": {
        "id": "Yk1unZAis85s"
      },
      "source": [
        "### Naive model"
      ]
    },
    {
      "cell_type": "code",
      "metadata": {
        "id": "MksrloI3sw6Q",
        "colab": {
          "base_uri": "https://localhost:8080/"
        },
        "outputId": "a2caf442-0412-4a42-9f0c-1f1a813ba8c5"
      },
      "source": [
        "NaiveModel = GaussianNB()\n",
        "NaiveModel.fit(DataKendaraanTrain_x, DataKendaraanTrain_y)"
      ],
      "execution_count": null,
      "outputs": [
        {
          "output_type": "execute_result",
          "data": {
            "text/plain": [
              "GaussianNB()"
            ]
          },
          "metadata": {},
          "execution_count": 100
        }
      ]
    },
    {
      "cell_type": "code",
      "metadata": {
        "id": "11iYr2QgunvG"
      },
      "source": [
        "prediksi_y = NaiveModel.predict(DataKendaraanTest_x)"
      ],
      "execution_count": null,
      "outputs": []
    },
    {
      "cell_type": "code",
      "source": [
        "class NaiveBayesClassifier():\n",
        "    def hitung_prior(self, features, target): #fungsi menghitung prior untuk setiap kelas\n",
        "        self.prior = (features.groupby(target).apply(lambda x: len(x)) / self.rows).to_numpy()\n",
        "        return self.prior\n",
        "    \n",
        "    def hitung_statistics(self, features, target): #fungsi menghitung mean dan variance untuk setiap kolom\n",
        "        self.mean = features.groupby(target).apply(np.mean).to_numpy()\n",
        "        self.var = features.groupby(target).apply(np.var).to_numpy()\n",
        "              \n",
        "        return self.mean, self.var\n",
        "    \n",
        "    def hitung_gaussian_density(self, class_idx, x): #fungsi menghitung probability dari gaussian density\n",
        "        mean = self.mean[class_idx]\n",
        "        var = self.var[class_idx]\n",
        "        a = np.exp((-1/2)*((x-mean)**2) / (2 * var))\n",
        "        b = np.sqrt(2 * np.pi * var)\n",
        "        prob = a / b\n",
        "        return prob #mengembalikan nilai probabilitas\n",
        "    \n",
        "    def hitung_posterior(self, x): #fungsi menghitung probabilitas dari posterior\n",
        "        posteriors = []\n",
        "\n",
        "        for i in range(self.count):\n",
        "            prior = np.log(self.prior[i])\n",
        "            conditional = np.sum(np.log(self.hitung_gaussian_density(i, x)))\n",
        "            posterior = prior + conditional\n",
        "            posteriors.append(posterior)\n",
        "        return self.classes[np.argmax(posteriors)]\n",
        "        \n",
        "    def fit(self, features, target):\n",
        "        self.classes = np.unique(target)\n",
        "        self.count = len(self.classes)\n",
        "        self.feature_nums = features.shape[1]\n",
        "        self.rows = features.shape[0]\n",
        "        \n",
        "        self.hitung_statistics(features, target)\n",
        "        self.hitung_prior(features, target)\n",
        "        \n",
        "    def predict(self, features):\n",
        "        preds = [self.hitung_posterior(f) for f in features.to_numpy()]\n",
        "        return preds"
      ],
      "metadata": {
        "id": "EFKtxUqUO5X4"
      },
      "execution_count": null,
      "outputs": []
    },
    {
      "cell_type": "code",
      "source": [
        "def accuracy(y_test, y_pred):\n",
        "    accuracy = np.sum(y_test == y_pred) / len(y_test)\n",
        "    return f'{round(accuracy * 100, 2)}%'"
      ],
      "metadata": {
        "id": "jarzmzbGRPFo"
      },
      "execution_count": null,
      "outputs": []
    },
    {
      "cell_type": "code",
      "source": [
        "# set features dan target\n",
        "# split antara train dan test\n",
        "X_train, y_train = DataBaru_train, DataKendaraanTrain_y\n",
        "X_test, y_test = DataBaru_test, DataKendaraanTest_y\n",
        "\n",
        "print(X_train[:5], y_train[:5])\n",
        "print(X_test[:5], y_test[:5])"
      ],
      "metadata": {
        "colab": {
          "base_uri": "https://localhost:8080/"
        },
        "id": "lcHIirOqRTdP",
        "outputId": "018e1992-c75c-4240-d760-a0923b004002"
      },
      "execution_count": null,
      "outputs": [
        {
          "output_type": "stream",
          "name": "stdout",
          "text": [
            "   Jenis_Kelamin      Umur  ...  Kanal_Penjualan  Lama_Berlangganan\n",
            "0            1.0  0.156250  ...         0.932099           0.301038\n",
            "1            0.0  0.437500  ...         0.172840           0.512111\n",
            "2            1.0  0.593750  ...         0.759259           0.183391\n",
            "3            0.0  0.015625  ...         0.932099           0.557093\n",
            "4            0.0  0.046875  ...         0.932099           0.733564\n",
            "\n",
            "[5 rows x 9 columns] 0    0\n",
            "1    0\n",
            "3    0\n",
            "5    0\n",
            "7    0\n",
            "Name: Tertarik, dtype: int64\n",
            "   Jenis_Kelamin      Umur  ...  Kanal_Penjualan  Lama_Berlangganan\n",
            "0            1.0  0.446154  ...         0.154321           0.467128\n",
            "1            0.0  0.030769  ...         0.932099           0.799308\n",
            "2            0.0  0.061538  ...         0.932099           0.179931\n",
            "3            0.0  0.400000  ...         0.759259           0.083045\n",
            "4            0.0  0.230769  ...         0.932099           0.757785\n",
            "\n",
            "[5 rows x 9 columns] 0    0\n",
            "1    0\n",
            "2    0\n",
            "3    0\n",
            "4    0\n",
            "Name: Tertarik, dtype: int64\n"
          ]
        }
      ]
    },
    {
      "cell_type": "code",
      "source": [
        "# train model\n",
        "x = NaiveBayesClassifier()\n",
        "x.fit(X_train, y_train)"
      ],
      "metadata": {
        "id": "F3JsAmGwS6Jd"
      },
      "execution_count": null,
      "outputs": []
    },
    {
      "cell_type": "code",
      "source": [
        "x.classes, x.feature_nums, x.rows, x.count"
      ],
      "metadata": {
        "id": "VS_WsZOaTO9W",
        "colab": {
          "base_uri": "https://localhost:8080/"
        },
        "outputId": "6e65531a-5055-4c76-b4e9-9acb86411cc1"
      },
      "execution_count": null,
      "outputs": [
        {
          "output_type": "execute_result",
          "data": {
            "text/plain": [
              "(array([0, 1]), 9, 219207, 2)"
            ]
          },
          "metadata": {},
          "execution_count": 106
        }
      ]
    },
    {
      "cell_type": "code",
      "source": [
        "x.hitung_prior(X_train, y_train)"
      ],
      "metadata": {
        "id": "qYitFISmTO2u",
        "colab": {
          "base_uri": "https://localhost:8080/"
        },
        "outputId": "c22fcd92-cfb6-4547-9308-551a940b7693"
      },
      "execution_count": null,
      "outputs": [
        {
          "output_type": "execute_result",
          "data": {
            "text/plain": [
              "array([0.67410256, 0.09369683])"
            ]
          },
          "metadata": {},
          "execution_count": 107
        }
      ]
    },
    {
      "cell_type": "code",
      "source": [
        "x.hitung_statistics(X_train, y_train)"
      ],
      "metadata": {
        "id": "f2FT3gW2TOh1",
        "colab": {
          "base_uri": "https://localhost:8080/"
        },
        "outputId": "9fbc4f53-ce0b-46b9-c7b0-2d793b9766a8"
      },
      "execution_count": null,
      "outputs": [
        {
          "output_type": "execute_result",
          "data": {
            "text/plain": [
              "(array([[0.45920632, 0.29281194, 0.507799  , 0.43681988, 0.25998525,\n",
              "         0.49554707, 0.35197606, 0.68840161, 0.49888669],\n",
              "        [0.4556697 , 0.29467263, 0.50784343, 0.43487998, 0.25327426,\n",
              "         0.49510687, 0.3503248 , 0.68311385, 0.49847981]]),\n",
              " array([[0.24833588, 0.05571721, 0.06519458, 0.24600827, 0.08338928,\n",
              "         0.24998017, 0.03825815, 0.11114578, 0.08013619],\n",
              "        [0.24803482, 0.05546507, 0.06485764, 0.24575938, 0.08159927,\n",
              "         0.24997606, 0.03821009, 0.11281377, 0.07906248]]))"
            ]
          },
          "metadata": {},
          "execution_count": 108
        }
      ]
    },
    {
      "cell_type": "code",
      "source": [
        "x.mean"
      ],
      "metadata": {
        "id": "r4IV-XeYTXug",
        "colab": {
          "base_uri": "https://localhost:8080/"
        },
        "outputId": "6d69ade6-47f4-486b-af13-bc38d4f27bda"
      },
      "execution_count": null,
      "outputs": [
        {
          "output_type": "execute_result",
          "data": {
            "text/plain": [
              "array([[0.45920632, 0.29281194, 0.507799  , 0.43681988, 0.25998525,\n",
              "        0.49554707, 0.35197606, 0.68840161, 0.49888669],\n",
              "       [0.4556697 , 0.29467263, 0.50784343, 0.43487998, 0.25327426,\n",
              "        0.49510687, 0.3503248 , 0.68311385, 0.49847981]])"
            ]
          },
          "metadata": {},
          "execution_count": 109
        }
      ]
    },
    {
      "cell_type": "code",
      "source": [
        "x.var"
      ],
      "metadata": {
        "id": "T_rH7cm0Tc6p",
        "colab": {
          "base_uri": "https://localhost:8080/"
        },
        "outputId": "fdf15161-e291-4ea6-87d6-a6db0e09d007"
      },
      "execution_count": null,
      "outputs": [
        {
          "output_type": "execute_result",
          "data": {
            "text/plain": [
              "array([[0.24833588, 0.05571721, 0.06519458, 0.24600827, 0.08338928,\n",
              "        0.24998017, 0.03825815, 0.11114578, 0.08013619],\n",
              "       [0.24803482, 0.05546507, 0.06485764, 0.24575938, 0.08159927,\n",
              "        0.24997606, 0.03821009, 0.11281377, 0.07906248]])"
            ]
          },
          "metadata": {},
          "execution_count": 110
        }
      ]
    },
    {
      "cell_type": "code",
      "source": [
        "predictions = x.predict(X_test)"
      ],
      "metadata": {
        "id": "RDIOvurrTdxg"
      },
      "execution_count": null,
      "outputs": []
    },
    {
      "cell_type": "code",
      "source": [
        "print(f'accuracy naive bayes = {accuracy(y_test, predictions)}')"
      ],
      "metadata": {
        "id": "R7B0BYNkTdro",
        "colab": {
          "base_uri": "https://localhost:8080/"
        },
        "outputId": "d6391cc7-c77f-4d59-c99f-48dd3bf2c780"
      },
      "execution_count": null,
      "outputs": [
        {
          "output_type": "stream",
          "name": "stdout",
          "text": [
            "accuracy naive bayes = 87.7%\n"
          ]
        }
      ]
    },
    {
      "cell_type": "code",
      "source": [
        "SkorAkurasi = accuracy_score(y_test, predictions)/10.0\n",
        "rModel = pd.DataFrame([['Naive Bayes', SkorAkurasi]], columns=['Classifier', 'Akurasi'])\n",
        "Result = Result.append(rModel)"
      ],
      "metadata": {
        "id": "ZjFREfJKneUy"
      },
      "execution_count": null,
      "outputs": []
    },
    {
      "cell_type": "markdown",
      "source": [
        "#EVALUASI"
      ],
      "metadata": {
        "id": "yhkyVrFqvRab"
      }
    },
    {
      "cell_type": "markdown",
      "source": [
        "#EKSPERIMEN"
      ],
      "metadata": {
        "id": "v75o9F5gJRiI"
      }
    },
    {
      "cell_type": "markdown",
      "source": [
        "###Random Forest Model"
      ],
      "metadata": {
        "id": "-WnnKl4tdkaW"
      }
    },
    {
      "cell_type": "code",
      "source": [
        "RandomForest = RandomForestClassifier()\n",
        "RandomForest.fit(X_train, y_train)"
      ],
      "metadata": {
        "colab": {
          "base_uri": "https://localhost:8080/"
        },
        "id": "lr9Aw2bMdrim",
        "outputId": "3c82d913-0184-4466-99dd-0024efb46a93"
      },
      "execution_count": null,
      "outputs": [
        {
          "output_type": "execute_result",
          "data": {
            "text/plain": [
              "RandomForestClassifier()"
            ]
          },
          "metadata": {},
          "execution_count": 113
        }
      ]
    },
    {
      "cell_type": "code",
      "source": [
        "predict_y = RandomForest.predict(X_test)"
      ],
      "metadata": {
        "id": "z06TjfQHipw8"
      },
      "execution_count": null,
      "outputs": []
    },
    {
      "cell_type": "code",
      "source": [
        "resultAccuracy = accuracy_score(y_test, predict_y)/10.0\n",
        "rModel = pd.DataFrame([['Random Forest', resultAccuracy]], columns=['Classifier', 'Akurasi'])\n",
        "Result = Result.append(rModel)"
      ],
      "metadata": {
        "id": "artDXUvFjIKn"
      },
      "execution_count": null,
      "outputs": []
    },
    {
      "cell_type": "code",
      "source": [
        "print(\"Accuracy Random Forest = {} %\".format( 100 * accuracy_score(predict_y, y_test)))"
      ],
      "metadata": {
        "colab": {
          "base_uri": "https://localhost:8080/"
        },
        "id": "S-Pg5EIMjyYY",
        "outputId": "7593f2b0-5b45-450b-9a05-985119061f10"
      },
      "execution_count": null,
      "outputs": [
        {
          "output_type": "stream",
          "name": "stdout",
          "text": [
            "Accuracy Random Forest = 86.58662020613363 %\n"
          ]
        }
      ]
    },
    {
      "cell_type": "code",
      "source": [
        "print(classification_report(y_test, predict_y))"
      ],
      "metadata": {
        "colab": {
          "base_uri": "https://localhost:8080/"
        },
        "id": "F43R3Ku5j7Nn",
        "outputId": "d4958a9b-8cc1-4da9-d6c6-56dc5b331fc8"
      },
      "execution_count": null,
      "outputs": [
        {
          "output_type": "stream",
          "name": "stdout",
          "text": [
            "              precision    recall  f1-score   support\n",
            "\n",
            "           0       0.89      0.97      0.93     41778\n",
            "           1       0.37      0.13      0.20      5861\n",
            "\n",
            "    accuracy                           0.87     47639\n",
            "   macro avg       0.63      0.55      0.56     47639\n",
            "weighted avg       0.83      0.87      0.84     47639\n",
            "\n"
          ]
        }
      ]
    },
    {
      "cell_type": "code",
      "source": [
        "sns.set_color_codes('muted')\n",
        "sns.barplot(x='Akurasi', y='Classifier', data=Result, color='green')"
      ],
      "metadata": {
        "colab": {
          "base_uri": "https://localhost:8080/",
          "height": 296
        },
        "id": "Pur2m7hlXK12",
        "outputId": "2f9f3703-7665-4174-ef3b-d04e23da190e"
      },
      "execution_count": null,
      "outputs": [
        {
          "output_type": "execute_result",
          "data": {
            "text/plain": [
              "<matplotlib.axes._subplots.AxesSubplot at 0x7fd7fd2ddc90>"
            ]
          },
          "metadata": {},
          "execution_count": 127
        },
        {
          "output_type": "display_data",
          "data": {
            "image/png": "[encoded data removed]",
            "text/plain": [
              "<Figure size 432x288 with 1 Axes>"
            ]
          },
          "metadata": {
            "needs_background": "light"
          }
        }
      ]
    }
  ]
}